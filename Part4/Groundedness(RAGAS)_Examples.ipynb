{
 "cells": [
  {
   "cell_type": "code",
   "execution_count": 3,
   "metadata": {
    "collapsed": true
   },
   "outputs": [],
   "source": [
    "!pip install --quiet ragas"
   ]
  },
  {
   "cell_type": "code",
   "execution_count": 3,
   "outputs": [],
   "source": [
    "from datasets import Dataset\n",
    "from ragas import evaluate\n",
    "from ragas.metrics import answer_relevancy, faithfulness, context_recall, answer_correctness, context_precision\n",
    "import os, openai"
   ],
   "metadata": {
    "collapsed": false
   }
  },
  {
   "cell_type": "code",
   "execution_count": 4,
   "outputs": [],
   "source": [
    "with open('../sample_data/token.txt', 'r') as file:\n",
    "    os.environ[\"OPENAI_API_KEY\"] = file.read().strip()"
   ],
   "metadata": {
    "collapsed": false
   }
  },
  {
   "cell_type": "code",
   "execution_count": 5,
   "outputs": [],
   "source": [
    "openai.api_key = os.getenv(\"OPENAI_API_KEY\")"
   ],
   "metadata": {
    "collapsed": false
   }
  },
  {
   "cell_type": "code",
   "execution_count": 6,
   "outputs": [],
   "source": [
    "def ragas_evaluate(eval_sets):\n",
    "    return evaluate(\n",
    "    eval_sets,\n",
    "    metrics=[\n",
    "        context_precision,\n",
    "        faithfulness,\n",
    "        answer_relevancy,\n",
    "        context_recall,\n",
    "        answer_correctness\n",
    "    ]\n",
    "  )"
   ],
   "metadata": {
    "collapsed": false
   }
  },
  {
   "cell_type": "code",
   "execution_count": 7,
   "outputs": [],
   "source": [
    "busan_context_right = [\n",
    "  \"Busan is divided into 15 major administrative districts and a single county, together housing a population of approximately 3.6 million.\"\n",
    "  \"Busan (Korean: 부산, pronounced [pusan]), officially Busan Metropolitan City, is South Korea's second most populous city after Seoul, with a population of over 3.4 million inhabitants as of 2017.[4] Formerly romanized as Pusan (and Fuzan under Japanese rule).\"\n",
    "  \"부산광역시(釜山廣域市, 영어: Busan Metropolitan City)는 한반도 남동부에 위치한 광역시이다. 대한민국의 제2의 도시이자 최대의 해양(항구) 도시이며, 부산항을 중심으로 해상 무역과 물류 산업이 발달하였다. 일본과는 대한해협을 사이에 두고 마주하고 있다. 시청 소재지는 연제구 연산동이며, 행정구역은 15구 1군이다.\"\n",
    "]"
   ],
   "metadata": {
    "collapsed": false
   }
  },
  {
   "cell_type": "code",
   "execution_count": 8,
   "outputs": [],
   "source": [
    "busan_context_wrong_1 = [\"부산에는 호떡이 맛있다.\", \"부산에는 언덕이 많다.\"]\n",
    "busan_context_wrong_2 = [\"호떡이 맛있다.\", \"언덕이 많다.\"]"
   ],
   "metadata": {
    "collapsed": false
   }
  },
  {
   "cell_type": "markdown",
   "source": [
    "# Correct Answer & Correct Context"
   ],
   "metadata": {
    "collapsed": false
   }
  },
  {
   "cell_type": "code",
   "execution_count": 16,
   "outputs": [],
   "source": [
    "# 정답, 그리고 좋은 컨텍스트\n",
    "eval_set = {\n",
    "\t\"question\": [\"대한민국에서 두번째로 큰 도시는 어디야?\"],     # 질문\n",
    "\t\"answer\"  : [\"대한민국에서 두번째로 큰 도시는 부산입니다.\"],  #  언어 모델이 내놓은 답\n",
    "\t\"contexts\": [busan_context_right],                         # 참고 자료\n",
    "\t\"ground_truth\": [\"부산\"]                                   # 정답\n",
    "}"
   ],
   "metadata": {
    "collapsed": false
   }
  },
  {
   "cell_type": "code",
   "execution_count": 17,
   "outputs": [],
   "source": [
    "eval_sets = Dataset.from_dict(eval_set)"
   ],
   "metadata": {
    "collapsed": false
   }
  },
  {
   "cell_type": "code",
   "execution_count": 18,
   "outputs": [
    {
     "data": {
      "text/plain": "Dataset({\n    features: ['question', 'answer', 'contexts', 'ground_truth'],\n    num_rows: 1\n})"
     },
     "execution_count": 18,
     "metadata": {},
     "output_type": "execute_result"
    }
   ],
   "source": [
    "eval_sets"
   ],
   "metadata": {
    "collapsed": false
   }
  },
  {
   "cell_type": "code",
   "execution_count": 19,
   "outputs": [
    {
     "data": {
      "text/plain": "Evaluating:   0%|          | 0/5 [00:00<?, ?it/s]",
      "application/vnd.jupyter.widget-view+json": {
       "version_major": 2,
       "version_minor": 0,
       "model_id": "8829ac8030d146c681e9f2b4f5b1cbbf"
      }
     },
     "metadata": {},
     "output_type": "display_data"
    },
    {
     "data": {
      "text/plain": "{'context_precision': 1.0000, 'faithfulness': 1.0000, 'answer_relevancy': 0.9950, 'context_recall': 1.0000, 'answer_correctness': 0.9729}"
     },
     "execution_count": 19,
     "metadata": {},
     "output_type": "execute_result"
    }
   ],
   "source": [
    "# 정답 세트!\n",
    "ragas_evaluate(eval_sets)"
   ],
   "metadata": {
    "collapsed": false
   }
  },
  {
   "cell_type": "markdown",
   "source": [
    "# Wrong Answer & Correct Context"
   ],
   "metadata": {
    "collapsed": false
   }
  },
  {
   "cell_type": "code",
   "execution_count": 20,
   "outputs": [],
   "source": [
    "# 오답, 그러나 좋은 컨텍스트. 답을 줬는데 왜 대답을 제대로 못해...\n",
    "eval_set = {\n",
    "\t\"question\": [\"대한민국에서 두번째로 큰 도시는 어디야?\"],\n",
    "\t\"answer\"  : [\"부산은 한국에 있다.\"],\n",
    "\t\"contexts\": [busan_context_right],\n",
    "\t\"ground_truth\": [\"부산\"]\n",
    "}"
   ],
   "metadata": {
    "collapsed": false
   }
  },
  {
   "cell_type": "code",
   "execution_count": 21,
   "outputs": [],
   "source": [
    "eval_sets = Dataset.from_dict(eval_set)"
   ],
   "metadata": {
    "collapsed": false
   }
  },
  {
   "cell_type": "code",
   "execution_count": 22,
   "outputs": [
    {
     "data": {
      "text/plain": "Evaluating:   0%|          | 0/5 [00:00<?, ?it/s]",
      "application/vnd.jupyter.widget-view+json": {
       "version_major": 2,
       "version_minor": 0,
       "model_id": "f726ddb657b4436eab5687bc315b352c"
      }
     },
     "metadata": {},
     "output_type": "display_data"
    },
    {
     "data": {
      "text/plain": "{'context_precision': 1.0000, 'faithfulness': 1.0000, 'answer_relevancy': 0.8117, 'context_recall': 1.0000, 'answer_correctness': 0.7295}"
     },
     "execution_count": 22,
     "metadata": {},
     "output_type": "execute_result"
    }
   ],
   "source": [
    "ragas_evaluate(eval_sets)"
   ],
   "metadata": {
    "collapsed": false
   }
  },
  {
   "cell_type": "markdown",
   "source": [
    "# Correct Answer & Wrong Context"
   ],
   "metadata": {
    "collapsed": false
   }
  },
  {
   "cell_type": "code",
   "execution_count": 23,
   "outputs": [],
   "source": [
    "# 정답, 그러나 불량 컨텍스트. 정답을 어떻게 한 거니??\n",
    "eval_set = {\n",
    "\t\"question\": [\"대한민국에서 두번째로 큰 도시는 어디야?\"],\n",
    "\t\"answer\"  : [\"대한민국에서 두번째로 큰 도시는 부산\"],\n",
    "\t\"contexts\": [busan_context_wrong_1],\n",
    "\t\"ground_truth\": [\"부산\"]\n",
    "}"
   ],
   "metadata": {
    "collapsed": false
   }
  },
  {
   "cell_type": "code",
   "execution_count": 24,
   "outputs": [],
   "source": [
    "eval_sets = Dataset.from_dict(eval_set)"
   ],
   "metadata": {
    "collapsed": false
   }
  },
  {
   "cell_type": "code",
   "execution_count": 25,
   "outputs": [
    {
     "data": {
      "text/plain": "Evaluating:   0%|          | 0/5 [00:00<?, ?it/s]",
      "application/vnd.jupyter.widget-view+json": {
       "version_major": 2,
       "version_minor": 0,
       "model_id": "3f7f935a496b4ad6bf47bfb5ef72fd46"
      }
     },
     "metadata": {},
     "output_type": "display_data"
    },
    {
     "data": {
      "text/plain": "{'context_precision': 0.0000, 'faithfulness': 1.0000, 'answer_relevancy': 0.9950, 'context_recall': 1.0000, 'answer_correctness': 0.9745}"
     },
     "execution_count": 25,
     "metadata": {},
     "output_type": "execute_result"
    }
   ],
   "source": [
    "ragas_evaluate(eval_sets)"
   ],
   "metadata": {
    "collapsed": false
   }
  },
  {
   "cell_type": "code",
   "execution_count": 26,
   "outputs": [],
   "source": [
    "# 정답, 그러나 불량 컨텍스트. 정답을 어떻게 한 거니?? 컨텍스트에는 부산이란 단어도 없어!!\n",
    "eval_set = {\n",
    "\t\"question\": [\"대한민국에서 두번째로 큰 도시는 어디야?\"],\n",
    "\t\"answer\"  : [\"대한민국에서 두번째로 큰 도시는 부산\"],\n",
    "\t\"contexts\": [busan_context_wrong_2],\n",
    "\t\"ground_truth\": [\"부산\"]\n",
    "}"
   ],
   "metadata": {
    "collapsed": false
   }
  },
  {
   "cell_type": "code",
   "execution_count": 27,
   "outputs": [],
   "source": [
    "eval_sets = Dataset.from_dict(eval_set)"
   ],
   "metadata": {
    "collapsed": false
   }
  },
  {
   "cell_type": "code",
   "execution_count": 28,
   "outputs": [
    {
     "data": {
      "text/plain": "Evaluating:   0%|          | 0/5 [00:00<?, ?it/s]",
      "application/vnd.jupyter.widget-view+json": {
       "version_major": 2,
       "version_minor": 0,
       "model_id": "d9843de217ee4417816ced1c64254647"
      }
     },
     "metadata": {},
     "output_type": "display_data"
    },
    {
     "data": {
      "text/plain": "{'context_precision': 0.0000, 'faithfulness': 0.0000, 'answer_relevancy': 0.9950, 'context_recall': 0.0000, 'answer_correctness': 0.9745}"
     },
     "execution_count": 28,
     "metadata": {},
     "output_type": "execute_result"
    }
   ],
   "source": [
    "ragas_evaluate(eval_sets)"
   ],
   "metadata": {
    "collapsed": false
   }
  },
  {
   "cell_type": "markdown",
   "source": [
    "# Wrong Answer & Correct Context"
   ],
   "metadata": {
    "collapsed": false
   }
  },
  {
   "cell_type": "code",
   "execution_count": 29,
   "outputs": [],
   "source": [
    "eval_set = {\n",
    "\t\"question\": [\"대한민국에서 두번째로 큰 도시는 어디야?\"],\n",
    "\t\"answer\"  : [\"대한민국에서 두번째로 큰 도시는 대구입니다.\"],\n",
    "\t\"contexts\": [busan_context_right],\n",
    "\t\"ground_truth\": [\"부산\"]\n",
    "}"
   ],
   "metadata": {
    "collapsed": false
   }
  },
  {
   "cell_type": "code",
   "execution_count": 30,
   "outputs": [],
   "source": [
    "eval_sets = Dataset.from_dict(eval_set)"
   ],
   "metadata": {
    "collapsed": false
   }
  },
  {
   "cell_type": "code",
   "execution_count": 31,
   "outputs": [
    {
     "data": {
      "text/plain": "Evaluating:   0%|          | 0/5 [00:00<?, ?it/s]",
      "application/vnd.jupyter.widget-view+json": {
       "version_major": 2,
       "version_minor": 0,
       "model_id": "2832e174ab1641a98f104648c719d114"
      }
     },
     "metadata": {},
     "output_type": "display_data"
    },
    {
     "data": {
      "text/plain": "{'context_precision': 1.0000, 'faithfulness': 1.0000, 'answer_relevancy': 0.9950, 'context_recall': 1.0000, 'answer_correctness': 0.2067}"
     },
     "execution_count": 31,
     "metadata": {},
     "output_type": "execute_result"
    }
   ],
   "source": [
    "ragas_evaluate(eval_sets)"
   ],
   "metadata": {
    "collapsed": false
   }
  },
  {
   "cell_type": "code",
   "execution_count": 32,
   "outputs": [],
   "source": [
    "# 오답, 그러나 좋은 컨텍스트.\n",
    "eval_set = {\n",
    "\t\"question\": [\"대한민국에서 두번째로 큰 도시는 어디야?\"],\n",
    "\t\"answer\"  : [\"대한민국에서 두번째로 큰 도시는 대구입니다.\"],\n",
    "\t\"contexts\": [busan_context_right],\n",
    "\t\"ground_truth\": [\"부산은 호떡이 맛있다\"]\n",
    "}"
   ],
   "metadata": {
    "collapsed": false
   }
  },
  {
   "cell_type": "code",
   "execution_count": 33,
   "outputs": [],
   "source": [
    "eval_sets = Dataset.from_dict(eval_set)"
   ],
   "metadata": {
    "collapsed": false
   }
  },
  {
   "cell_type": "code",
   "execution_count": 34,
   "outputs": [
    {
     "data": {
      "text/plain": "Evaluating:   0%|          | 0/5 [00:00<?, ?it/s]",
      "application/vnd.jupyter.widget-view+json": {
       "version_major": 2,
       "version_minor": 0,
       "model_id": "7454e22f1795433eba3e80b5ad2da17c"
      }
     },
     "metadata": {},
     "output_type": "display_data"
    },
    {
     "data": {
      "text/plain": "{'context_precision': 1.0000, 'faithfulness': 0.0000, 'answer_relevancy': 0.9950, 'context_recall': 0.0000, 'answer_correctness': 0.2018}"
     },
     "execution_count": 34,
     "metadata": {},
     "output_type": "execute_result"
    }
   ],
   "source": [
    "ragas_evaluate(eval_sets)"
   ],
   "metadata": {
    "collapsed": false
   }
  }
 ],
 "metadata": {
  "kernelspec": {
   "display_name": "Python 3",
   "language": "python",
   "name": "python3"
  },
  "language_info": {
   "codemirror_mode": {
    "name": "ipython",
    "version": 2
   },
   "file_extension": ".py",
   "mimetype": "text/x-python",
   "name": "python",
   "nbconvert_exporter": "python",
   "pygments_lexer": "ipython2",
   "version": "2.7.6"
  }
 },
 "nbformat": 4,
 "nbformat_minor": 0
}
