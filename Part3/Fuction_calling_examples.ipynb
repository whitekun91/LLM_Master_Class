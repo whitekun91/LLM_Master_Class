{
 "cells": [
  {
   "cell_type": "code",
   "execution_count": 1,
   "outputs": [],
   "source": [
    "import os, openai"
   ],
   "metadata": {
    "collapsed": false
   }
  },
  {
   "cell_type": "code",
   "execution_count": 2,
   "outputs": [],
   "source": [
    "with open('./sample_data/token.txt', 'r') as file:\n",
    "    os.environ[\"OPENAI_API_KEY\"] = file.read().strip()"
   ],
   "metadata": {
    "collapsed": false
   }
  },
  {
   "cell_type": "code",
   "execution_count": 3,
   "outputs": [],
   "source": [
    "openai.api_key = os.getenv(\"OPENAI_API_KEY\")"
   ],
   "metadata": {
    "collapsed": false
   }
  },
  {
   "cell_type": "code",
   "execution_count": 4,
   "outputs": [],
   "source": [
    "client = openai.OpenAI()"
   ],
   "metadata": {
    "collapsed": false
   }
  },
  {
   "cell_type": "code",
   "execution_count": 5,
   "outputs": [],
   "source": [
    "content = \"\"\"다음 문장에서 색깔 정보가 있으면 그것을 추출하여 영어로 번역하고 json 포맷으로 만들어서 출력해라.\n",
    "문장: \\\"나는 빨간 사과가 좋더라\\n\n",
    "\"\"\""
   ],
   "metadata": {
    "collapsed": false
   }
  },
  {
   "cell_type": "code",
   "execution_count": 6,
   "outputs": [],
   "source": [
    "response = client.chat.completions.create(\n",
    "  model=\"gpt-4o\",\n",
    "  messages=[\n",
    "    {\n",
    "      \"role\": \"user\",\n",
    "      \"content\": content\n",
    "    }\n",
    "  ],\n",
    ")"
   ],
   "metadata": {
    "collapsed": false
   }
  },
  {
   "cell_type": "code",
   "execution_count": 7,
   "outputs": [
    {
     "name": "stdout",
     "output_type": "stream",
     "text": [
      "```json\n",
      "{\n",
      "  \"color\": \"red\"\n",
      "}\n",
      "```\n"
     ]
    }
   ],
   "source": [
    "print(response.choices[0].message.content)"
   ],
   "metadata": {
    "collapsed": false
   }
  },
  {
   "cell_type": "code",
   "execution_count": 8,
   "outputs": [],
   "source": [
    "content = \"\"\"다음 문장에서 색깔 정보가 있으면 그것을 추출하여 영어로 번역하고 json 포맷으로 만들어서 출력해라.\n",
    "문장: \\\"아침에는 인간적으로 커피 한 잔 주고 뭐라 하자\\n\n",
    "\"\"\""
   ],
   "metadata": {
    "collapsed": false
   }
  },
  {
   "cell_type": "code",
   "execution_count": 9,
   "outputs": [],
   "source": [
    "response = client.chat.completions.create(\n",
    "  model=\"gpt-4o\",\n",
    "  messages=[\n",
    "    {\n",
    "      \"role\": \"user\",\n",
    "      \"content\": content\n",
    "    }\n",
    "  ],\n",
    ")"
   ],
   "metadata": {
    "collapsed": false
   }
  },
  {
   "cell_type": "code",
   "execution_count": 10,
   "outputs": [
    {
     "name": "stdout",
     "output_type": "stream",
     "text": [
      "해당 문장에는 색깔에 대한 정보가 포함되어 있지 않습니다. \n",
      "\n",
      "따라서 색깔 정보를 추출할 수 없기 때문에 빈 JSON 객체를 반환하겠습니다.\n",
      "\n",
      "```json\n",
      "{}\n",
      "```\n"
     ]
    }
   ],
   "source": [
    "print(response.choices[0].message.content)"
   ],
   "metadata": {
    "collapsed": false
   }
  },
  {
   "cell_type": "code",
   "execution_count": 11,
   "outputs": [],
   "source": [
    "schema = {\n",
    "  \"$schema\": \"http://json-schema.org/draft-07/schema\",\n",
    "  \"type\": \"object\",\n",
    "  \"properties\": {\n",
    "    \"color\": {\n",
    "      \"type\": \"string\"\n",
    "    }\n",
    "  },\n",
    "  \"required\": [\"color\"]\n",
    "}"
   ],
   "metadata": {
    "collapsed": false
   }
  },
  {
   "cell_type": "code",
   "execution_count": 12,
   "outputs": [],
   "source": [
    "content = f\"\"\"다음 문장에서 색깔 정보가 있으면 그것을 추출하여 영어로 번역하고 json 포맷으로 만들어서 출력해라.\n",
    "               문장: '나는 빨간 사과가 좋더라'\n",
    "               json schema 는 다음과 같다 : {schema}\n",
    "               색깔 정보가 없으면 no color 로 대신해라\n",
    "            \"\"\""
   ],
   "metadata": {
    "collapsed": false
   }
  },
  {
   "cell_type": "code",
   "execution_count": 13,
   "outputs": [],
   "source": [
    "# 이전 방식\n",
    "response = client.chat.completions.create(\n",
    "  model=\"gpt-4o\",\n",
    "  messages=[\n",
    "    {\n",
    "      \"role\": \"user\",\n",
    "      \"content\": f\"{content}\"\n",
    "    }\n",
    "  ],\n",
    ")"
   ],
   "metadata": {
    "collapsed": false
   }
  },
  {
   "cell_type": "code",
   "execution_count": 14,
   "outputs": [
    {
     "name": "stdout",
     "output_type": "stream",
     "text": [
      "```json\n",
      "{\n",
      "  \"$schema\": \"http://json-schema.org/draft-07/schema\",\n",
      "  \"type\": \"object\",\n",
      "  \"properties\": {\n",
      "    \"color\": {\n",
      "      \"type\": \"string\"\n",
      "    }\n",
      "  },\n",
      "  \"required\": [\n",
      "    \"color\"\n",
      "  ]\n",
      "}\n",
      "```\n",
      "\n",
      "```json\n",
      "{\n",
      "  \"color\": \"red\"\n",
      "}\n",
      "```\n",
      "\n",
      "문장: '나는 빨간 사과가 좋더라'에서 '빨간'이라는 색깔 정보를 추출했습니다. 영어로 'red'라고 번역하여 JSON 포맷으로 만들었습니다.\n"
     ]
    }
   ],
   "source": [
    "print(response.choices[0].message.content)"
   ],
   "metadata": {
    "collapsed": false
   }
  },
  {
   "cell_type": "markdown",
   "source": [
    "잘못된 출력의 예:\n",
    "\n",
    "- 틀린 아웃풋 (output 텍스트가 포함됨): output: {‘color’: ‘blue’}\n",
    "- 틀린 아웃풋 : 사용자는 노란색을 좋아합니다.\n",
    "- 틀린 아웃풋: 주신 내용에서는 색깔 정보를 찾을 수가 없는데 다른 더 도와드릴 일이 있나요?"
   ],
   "metadata": {
    "collapsed": false
   }
  },
  {
   "cell_type": "code",
   "execution_count": 15,
   "outputs": [],
   "source": [
    "response = client.chat.completions.create(\n",
    "  model=\"gpt-4o\",\n",
    "  messages=[{\"role\": \"user\", \"content\": \"나는 노란색이 좋더라\"}],\n",
    "  functions=[\n",
    "      {\n",
    "          \"name\": \"color_extractor\",\n",
    "          \"description\": \"사용자의 선호 색깔을 찾아서 영어로 번역하고 영어 단어를 출력함\",\n",
    "          \"parameters\": {\n",
    "              \"type\": \"object\",\n",
    "              \"properties\": {\n",
    "                  \"color\": {\n",
    "                      \"type\": \"string\",\n",
    "                      \"description\": \"색깔 정보를 빼내와서 그에 해당하는 영어 단어를 출력함\",\n",
    "                  },\n",
    "              },\n",
    "              \"required\": [\"color\"],\n",
    "          },\n",
    "      }\n",
    "  ]\n",
    ")"
   ],
   "metadata": {
    "collapsed": false
   }
  },
  {
   "cell_type": "code",
   "execution_count": 16,
   "outputs": [
    {
     "name": "stdout",
     "output_type": "stream",
     "text": [
      "ChatCompletionMessage(content=None, role='assistant', function_call=FunctionCall(arguments='{\"color\":\"노란색\"}', name='color_extractor'), tool_calls=None)\n"
     ]
    }
   ],
   "source": [
    "print(response.choices[0].message)"
   ],
   "metadata": {
    "collapsed": false
   }
  },
  {
   "cell_type": "code",
   "execution_count": 17,
   "outputs": [
    {
     "name": "stdout",
     "output_type": "stream",
     "text": [
      "{\"color\":\"노란색\"}\n"
     ]
    }
   ],
   "source": [
    "print(response.choices[0].message.function_call.arguments)"
   ],
   "metadata": {
    "collapsed": false
   }
  },
  {
   "cell_type": "code",
   "execution_count": 18,
   "outputs": [],
   "source": [
    "response = client.chat.completions.create(\n",
    "  model=\"gpt-4o\",\n",
    "  messages=[{\"role\": \"user\", \"content\": \"퇴근했는데 업무 톡 날리는 양심없는 인간\"}],\n",
    "  functions=[\n",
    "      {\n",
    "          \"name\": \"color_extractor\",\n",
    "          \"description\": \"사용자의 선호 색깔을 찾아서 영어로 번역하고 영어 단어를 출력함\",\n",
    "          \"parameters\": {\n",
    "              \"type\": \"object\",\n",
    "              \"properties\": {\n",
    "                  \"color\": {\n",
    "                      \"type\": \"string\",\n",
    "                      \"description\": \"색깔 정보를 빼내와서 그에 해당하는 영어 단어를 출력함\",\n",
    "                  },\n",
    "              },\n",
    "              \"required\": [\"color\"],\n",
    "          },\n",
    "      }\n",
    "  ]\n",
    ")"
   ],
   "metadata": {
    "collapsed": false
   }
  },
  {
   "cell_type": "code",
   "execution_count": 19,
   "outputs": [
    {
     "name": "stdout",
     "output_type": "stream",
     "text": [
      "ChatCompletionMessage(content='업무 관련된 메시지를 퇴근 후에 받는 것은 정말 스트레스 받을 수 있죠. 퇴근 후의 시간은 휴식과 개인적인 일에 집중할 수 있는 소중한 시간입니다. 그런 경우 어떻게 대처하는 것이 좋을지 생각해보신 적 있나요?', role='assistant', function_call=None, tool_calls=None)\n"
     ]
    }
   ],
   "source": [
    "print(response.choices[0].message)"
   ],
   "metadata": {
    "collapsed": false
   }
  },
  {
   "cell_type": "code",
   "execution_count": 20,
   "outputs": [
    {
     "name": "stdout",
     "output_type": "stream",
     "text": [
      "업무 관련된 메시지를 퇴근 후에 받는 것은 정말 스트레스 받을 수 있죠. 퇴근 후의 시간은 휴식과 개인적인 일에 집중할 수 있는 소중한 시간입니다. 그런 경우 어떻게 대처하는 것이 좋을지 생각해보신 적 있나요?\n"
     ]
    }
   ],
   "source": [
    "print(response.choices[0].message.content)"
   ],
   "metadata": {
    "collapsed": false
   }
  },
  {
   "cell_type": "code",
   "execution_count": 21,
   "outputs": [],
   "source": [
    "response = client.chat.completions.create(\n",
    "    model=\"gpt-4o\",\n",
    "    messages=[{\"role\": \"user\", \"content\": \"아침에 세 개 저녁에 네개\"}],\n",
    "    functions=[\n",
    "        {\n",
    "            \"name\": \"apple_add\",\n",
    "            \"description\": \"사과 숫자를 더함\",\n",
    "            \"parameters\": {\n",
    "                \"type\": \"object\",\n",
    "                \"properties\": {\n",
    "                    \"quantity1\": {\n",
    "                        \"type\": \"integer\",\n",
    "                        \"description\": \"첫번째 숫자\",\n",
    "                    },\n",
    "                    \"quantity2\": {\n",
    "                        \"type\": \"integer\",\n",
    "                        \"description\": \"두번째 숫자\",\n",
    "                    },\n",
    "                },\n",
    "                \"required\": [\"quantity1\", \"quantity2\"],\n",
    "            },\n",
    "        }\n",
    "    ],\n",
    "    function_call=\"auto\",\n",
    ")"
   ],
   "metadata": {
    "collapsed": false
   }
  },
  {
   "cell_type": "code",
   "execution_count": 22,
   "outputs": [
    {
     "name": "stdout",
     "output_type": "stream",
     "text": [
      "ChatCompletionMessage(content=None, role='assistant', function_call=FunctionCall(arguments='{\"quantity1\":3,\"quantity2\":4}', name='apple_add'), tool_calls=None)\n"
     ]
    }
   ],
   "source": [
    "print(response.choices[0].message)"
   ],
   "metadata": {
    "collapsed": false
   }
  },
  {
   "cell_type": "code",
   "execution_count": 23,
   "outputs": [
    {
     "name": "stdout",
     "output_type": "stream",
     "text": [
      "{\"quantity1\":3,\"quantity2\":4}\n"
     ]
    }
   ],
   "source": [
    "print(response.choices[0].message.function_call.arguments)"
   ],
   "metadata": {
    "collapsed": false
   }
  },
  {
   "cell_type": "code",
   "execution_count": 24,
   "outputs": [],
   "source": [
    "import openai\n",
    "import json\n",
    "from duckpy import Client\n",
    "import ast"
   ],
   "metadata": {
    "collapsed": false
   }
  },
  {
   "cell_type": "code",
   "execution_count": 25,
   "outputs": [],
   "source": [
    "duckduckgo_client = Client()"
   ],
   "metadata": {
    "collapsed": false
   }
  },
  {
   "cell_type": "code",
   "execution_count": 26,
   "outputs": [],
   "source": [
    "def duck_search(query) -> str:\n",
    "    \"\"\"Runs a duckduckgo search\"\"\"\n",
    "    output = duckduckgo_client.search(query)\n",
    "    return str(output)"
   ],
   "metadata": {
    "collapsed": false
   }
  },
  {
   "cell_type": "code",
   "execution_count": 27,
   "outputs": [],
   "source": [
    "completion = client.chat.completions.create(\n",
    "        model=\"gpt-4o\",\n",
    "        temperature=0,\n",
    "        functions=[\n",
    "            {\n",
    "                \"name\": \"duck_search\",\n",
    "                \"description\": \"Used to search online\",\n",
    "                \"parameters\": {\n",
    "                    \"type\": \"object\",\n",
    "                    \"properties\": {\n",
    "                        \"query\": {\n",
    "                            \"type\": \"string\",\n",
    "                            \"description\": \"Translate the Korean content into English input query\",\n",
    "                        },\n",
    "                    },\n",
    "                    \"required\": [\"query\"],\n",
    "                },\n",
    "            }\n",
    "        ],\n",
    "        messages=[\n",
    "            {\"role\": \"system\", \"content\": \"You must use the `duck_search` function to get information.\"},\n",
    "            {\"role\": \"user\", \"content\": \"조지 클루니 생일이 언제야?\"},\n",
    "        ]\n",
    "    )"
   ],
   "metadata": {
    "collapsed": false
   }
  },
  {
   "cell_type": "code",
   "execution_count": 28,
   "outputs": [
    {
     "name": "stdout",
     "output_type": "stream",
     "text": [
      "ChatCompletion(id='chatcmpl-9m0OD2AdOCdxuc9P9NPUfVsFILKbx', choices=[Choice(finish_reason='function_call', index=0, logprobs=None, message=ChatCompletionMessage(content=None, role='assistant', function_call=FunctionCall(arguments='{\"query\":\"George Clooney birthday\"}', name='duck_search'), tool_calls=None))], created=1721228269, model='gpt-4o-2024-05-13', object='chat.completion', service_tier=None, system_fingerprint='fp_5e997b69d8', usage=CompletionUsage(completion_tokens=18, prompt_tokens=76, total_tokens=94))\n"
     ]
    }
   ],
   "source": [
    "print(completion)"
   ],
   "metadata": {
    "collapsed": false
   }
  },
  {
   "cell_type": "code",
   "execution_count": 29,
   "outputs": [],
   "source": [
    "message = completion.choices[0].message"
   ],
   "metadata": {
    "collapsed": false
   }
  },
  {
   "cell_type": "code",
   "execution_count": 30,
   "outputs": [
    {
     "name": "stdout",
     "output_type": "stream",
     "text": [
      "[{'title': 'George Clooney - Wikipedia', 'description': 'George Timothy Clooney (born May 6, 1961) is an American actor and filmmaker. Known for his work in both blockbuster and independent films, he has received numerous accolades, including two Academy Awards, a British Academy Film Award and four Golden Globe Awards.His honors include the Cecil B. DeMille Award, the Honorary César, the AFI Life Achievement Award, and the Kennedy Center Honor.', 'url': 'm/l/?uddg=https://en.wikipedia.org/wiki/George_Clooney&rut=37382dd57f2f94af2bc9d8e9772cbfa1c96bb82b8d192c2706f7a84706bc9542'}, {'title': 'George Clooney - Movies, Wife & Age - Biography', 'description': 'George Timothy Clooney was born on May 6, 1961, in Lexington, Kentucky, into a well-known family of media and entertainment personalities. His father, Nick, spent many years as a television ...', 'url': 'm/l/?uddg=https://www.biography.com/actors/george-clooney&rut=2fcc7473ace13a78cb9eb599ebd7a05b1d5d825214f28dcc175db37c3db28d63'}, {'title': 'George Clooney Turns 63: All About His Life Now - People.com', 'description': 'The actor and director celebrates his birthday on May 6, 2024, with a busy filming schedule and a happy marriage with Amal. Find out more about his latest projects, including Wolfs with Brad Pitt, and his twins Ella and Alexander.', 'url': 'm/l/?uddg=https://people.com/george-clooney-63rd-birthday-life-now-wife-amal-clooney-twins-reuniting-brad-pitt-8643809&rut=89f07d5be194e1ce356bdb08b1392ab3d3fb1d3c27b93a1ef192d3ddeeb65bdc'}, {'title': 'George Clooney - Biography - IMDb', 'description': 'Learn about the life and career of George Clooney, the Oscar-winning actor, director and producer. He was born on May 6, 1961, in Lexington, Kentucky, and married Amal Clooney in 2014.', 'url': 'm/l/?uddg=https://www.imdb.com/name/nm0000123/bio/&rut=32c6133ea634de23eccf5b5e3fac2de188365c0f853115189d45097dbe9c942e'}, {'title': 'George Clooney - Age, Family, Bio | Famous Birthdays', 'description': 'George Clooney: his birthday, what he did before fame, his family life, fun trivia facts, popularity rankings, and more. ... George Clooney Highlights Popularity 15 Most Popular #1901 Born on May 6 #5 63 Year Old #3 Born in Kentucky #12 First Name ...', 'url': 'm/l/?uddg=https://www.famousbirthdays.com/people/george-clooney.html&rut=26b1a16abce1eb2bd6762d893d4c7ce33480a685eb4ed6d726089af3f3c4e682'}, {'title': 'George Clooney - IMDb', 'description': \"George Clooney is an actor, producer and director who was born on May 6, 1961, in Kentucky. He has won two Oscars and starred in films such as Ocean's Eleven, The Descendants and Syriana.\", 'url': 'm/l/?uddg=https://www.imdb.com/name/nm0000123/&rut=d3e39ac156651e2bd6af03d515780a9b44bdd0f92cf91fa931f8a74c6ca09c42'}, {'title': 'George Clooney - Wikiwand', 'description': 'George Timothy Clooney is an American actor and filmmaker. Known for his work in both blockbuster and independent films, he has received numerous accolades, including two Academy Awards, a British Academy Film Award and four Golden Globe Awards. His honors include the Cecil B. DeMille Award, the Honorary César, the AFI Life Achievement Award, and the Kennedy Center Honor.', 'url': 'm/l/?uddg=https://www.wikiwand.com/en/George_Clooney&rut=b4be72a4e4176924f38d926110d08365bc8dffec5f17393f8d97cdcc09bbb666'}, {'title': 'George Clooney | Biography, TV Shows, Movies, & Facts', 'description': 'George Clooney (born May 6, 1961, Lexington, Kentucky, U.S.) is an American actor and filmmaker who emerged in the 1990s as a popular leading man, known for his good looks and versatility, and who later became a respected director and screenwriter. Although his family had a show-business background—his father, Nick Clooney, was a broadcast ...', 'url': 'm/l/?uddg=https://www.britannica.com/biography/George-Clooney&rut=200e9425b65696936b0d69cf35cb0fe0b8d7d0e2b296107b7d27782c3da7a65d'}, {'title': 'George Clooney Biography - Facts, Childhood, Family Life & Achievements', 'description': \"Birthday: May 6, 1961 . Born In: Lexington, Kentucky, United States. Advanced Search. George Clooney is an American actor, producer, writer, director, and activist. Since making his acting debut in 1978, he has gone on to become one of Hollywood's hottest A-list leading men. Twice named 'The Sexiest Man Alive' by 'People' magazine ...\", 'url': 'm/l/?uddg=https://www.thefamouspeople.com/profiles/george-timothy-clooney-1486.php&rut=7e1cfd50c23d1a733e84baeca368ab36a229c4dcc8a953eed7b0394cfd0a8783'}, {'title': 'George Clooney — The Movie Database (TMDB)', 'description': \"George Clooney is an American actor and filmmaker born on May 6, 1961. He has won multiple awards and starred in many acclaimed movies, such as Ocean's Eleven, Gravity, and The Descendants.\", 'url': 'm/l/?uddg=https://www.themoviedb.org/person/1461-george-clooney&rut=401b35160197f5010ce4a3d22a23afba3c9be57d3b4bf272bba1dbf27e073354'}, {'title': 'George Clooney Facts | Britannica', 'description': 'Also Known As: George Timothy Clooney: Born: May 6, 1961 (age 63) • Lexington • Kentucky Awards And Honors: Cecil B. DeMille Award (2022) • Kennedy Center Honors (2022) • Golden Globe Award (2012) • Academy Award (2006) • Academy Award (2013): Best Picture • Academy Award (2006): Actor in a Supporting Role • Cecil B. DeMille Award (2015) • Golden Globe Award (2012): Best ...', 'url': 'm/l/?uddg=https://www.britannica.com/facts/George-Clooney&rut=1e39c6b61d72a945349a4cd2a61aea2edb81ac3f409f8e542cd0c3e624857ceb'}, {'title': 'George Clooney Birthday - National Today', 'description': 'Learn about the life and achievements of George Clooney, the American actor, director, producer, and screenwriter. Find out his birthday, zodiac sign, net worth, and more surprising facts.', 'url': 'm/l/?uddg=https://nationaltoday.com/birthday/george-clooney/&rut=5243ad32d6a17a43ee68afb26132b23019218f0db2ebeaa12d2f164f685bdfe0'}, {'title': 'George Clooney - Biography | HELLO!', 'description': \"Born in Kentucky on May 6, 1961, George has show-business in his blood. His father is the former TV talk show host Nick Clooney, and he's a nephew of the famous singer Rosemary Clooney. He ...\", 'url': 'm/l/?uddg=https://www.hellomagazine.com/profiles/20091008180/george-clooney/&rut=72a3914a65526d1a12d9a9f0aa6961eb45bb49a4ed4616e9e080665bfbedb0f5'}, {'title': 'George Clooney: Birthday, Age, and Zodiac', 'description': 'Your birthday is more than just a day in the calendar! American actor and filmmaker (born 1961) - George Clooney was born in Lexington (City in and county seat of Fayette County, Kentucky, United States) on May 6th, 1961 and is 63 years old today.', 'url': 'm/l/?uddg=https://happyhappybirthday.net/en/age/george-clooney-person_yxqss&rut=3192c22049dde3c72e912e9b4f2a0f1f9ef58852e04d4daf0cdf0d104888eba4'}, {'title': 'George Clooney Celebrated by Fans and Friends on His 60th Birthday', 'description': \"Published May 6, 2021. George Clooney's ER co-star Julianna Margulies is among his many fans wishing the actor a happy 60th birthday on social media. Hollywood heartthrob George Clooney is now 60 ...\", 'url': 'm/l/?uddg=https://movieweb.com/george-clooney-60th-birthday/&rut=c109fac8a6461e0df27a6709a24a151c243922f4f260259b6e2cdb10b5153ea3'}, {'title': \"A Look Back at Actor George Clooney's Career as he Turns 50 - AARP\", 'description': 'Nick need not have worried. Though George was the nephew of singer Rosemary Clooney (and lived with her family when he first arrived in Los Angeles), he made his own way — working in many a failed TV pilot or series before racking up the successes that would lead to movie stardom. Clooney celebrated his 50th birthday on May 6.', 'url': 'm/l/?uddg=https://www.aarp.org/entertainment/movies-for-grownups/info-05-2011/george-clooney-turns-50.html&rut=f76813396435b21c1a7ae685974cf2f2823ffcc6569cf5545c0758a8cd9608fb'}, {'title': 'George Clooney on 60th Birthday & Teaching His Kids Charitable Values', 'description': \"George Clooney Talks Working With Friend Ben Affleck for 'The Tender Bar' (Exclusive) Shannen Doherty Dead at 53 ... Clooney will also be reaching his own milestone birthday. So how does he ...\", 'url': 'm/l/?uddg=https://www.etonline.com/george-clooney-on-his-milestone-60th-birthday-and-teaching-his-kids-charitable-values-exclusive&rut=0c7160c068649bce03fe96d877940295954cd4289a1eaf7314b751ba9279f402'}, {'title': \"George Clooney in 'Upbeat' Mood as He Filmed with Adam Sandler on ...\", 'description': 'George Clooney spent his birthday on set and having a laugh with Adam Sandler . The actor turned 63 on Monday, May 6, and was busy filming in Italy with costar Sandler, 57, on a movie directed by ...', 'url': 'm/l/?uddg=https://people.com/george-clooney-in-upbeat-mood-as-he-filmed-with-adam-sandler-on-birthday-exclusive-8644185&rut=c67b163512cc4aac83524dc1671b6f7e21a254d29a0d6f5ab3d898be823097a1'}, {'title': 'The Untold Truth Of George Clooney - Looper', 'description': 'In an email to CNBC in 2018, Clooney told the outlet, \"If you asked us four years ago if we had a billion-dollar company, I don\\'t think we would have said yes. This reflects Diageo\\'s belief in our ...', 'url': 'm/l/?uddg=https://www.looper.com/292480/the-untold-truth-of-george-clooney/&rut=921c2e8b7686ff2515e44e3f105e1257e1bd439cc528111f7c70c93d1255b33f'}, {'title': 'George Clooney: I Love Joe Biden. But We Need a New Nominee.', 'description': \"Mr. Clooney is an actor, director and film producer. I'm a lifelong Democrat; I make no apologies for that. I'm proud of what my party represents and what it stands for. As part of my ...\", 'url': 'm/l/?uddg=https://www.nytimes.com/2024/07/10/opinion/joe-biden-democratic-nominee.html&rut=84771eea8514744eafec8fc515bdd73a3527d7241956d8f4ac555f16581f9e69'}, {'title': 'George Clooney Gets Sweet Birthday Tribute from ER Costar Julianna ...', 'description': 'George Clooney got some birthday love from his ER costar Julianna Margulies ! The actress, 53, shared a throwback photo of herself and Clooney on Instagram Wednesday to commemorate his 59th ...', 'url': 'm/l/?uddg=https://people.com/movies/george-clooney-julianna-margulies-er-birthday-tribute/&rut=41c756d03b4e53e6d021068539fad00dbedf0de0b959ff145ca9c000bda069f1'}, {'title': 'George Clooney Turns 63: Inside His 9-Year Marriage to Amal', 'description': 'Sept. 27, 2014. On a lovely day in Venice, Italy, George and Amal tied the knot in a star-studded wedding ceremony surrounded by family and friends. The wedding, held at the hotel Aman Canal ...', 'url': 'm/l/?uddg=https://www.etonline.com/george-clooney-turns-63-inside-his-9-year-marriage-to-amal-216417&rut=225f095ef8f1d4a8a122c0424661ea6d84b553e205cf9244637967df1726aaae'}, {'title': 'George Clooney (1961), Bio, Birthdays - BirthdayPedia Home', 'description': 'Taurus. When George Clooney was born in Lexington, Kentucky in 1961, no one could have suspected what kind of success he would be. He was born to his mother, Nina Bruce, both a beauty queen and a city councilwoman. His father, Nick Clooney had already been in show business, having been a former anchorman and a game show host.', 'url': 'm/l/?uddg=https://birthdaypedia.com/george-clooney/&rut=365254ea209222238314993d4545aadf27e52865c8846c97f7a1d804f36d2836'}, {'title': 'George Clooney: An aging Biden is no longer the man he was - Los ...', 'description': 'George Clooney, who just helped with a record-setting June fundraiser for President Biden, calls on the 81-year-old to end his reelection bid because of his age.', 'url': 'm/l/?uddg=https://www.latimes.com/entertainment-arts/story/2024-07-10/george-clooney-joe-biden-step-aside-essay-2024-election&rut=4a57941ea235e1f6b6b610385e58c121a29fefba0a788accf30c1c45966d9020'}, {'title': \"Amal Clooney Celebrates George Clooney's Birthday With a Double Date ...\", 'description': \"Before the first Monday in May, it was George Clooney's birthday! The Oscar winner rang in his 57th year with his real life leading lady, Amal Clooney, by his side.After flying into New York City ...\", 'url': 'm/l/?uddg=https://www.eonline.com/news/932954/amal-clooney-celebrates-george-clooney-s-birthday-with-a-double-date-night&rut=9c26a859a7a20c27fc47c6fca6bf085ca638f40a0a373997ff32d3c9e6690bc0'}, {'title': '62 photos of George Clooney through the years - Entertainment Weekly', 'description': 'Steve Granitz/WireImage. 11 of 62. George Clooney on The Tonight Show With Jay Leno on Sept. 16, 1994. Margaret Norton/NBC/NBCU Photo Bank. 12 of 62. George Clooney with Noah Wyle on Dec. 7, 1994 ...', 'url': 'm/l/?uddg=https://ew.com/gallery/george-clooney-photos/&rut=ecb84d9c1b8e6081a95b84ad931021cd2aefe7669d212de47d9a5c59391a9e5b'}, {'title': 'George Clooney (Movie Actor) - Age, Birthday, Bio, Facts, Family, Net ...', 'description': \"It will clarify George Clooney's info: birthday, bio, ability, personality type, family, husband, siblings and drama of George Clooney... George Clooney before becoming famous. George Clooney was born in the Zodiac sign Taurus (The Bull), and 1961 is also the year of Ox (牛) in the Chinese Zodiac.\", 'url': 'm/l/?uddg=https://allfamous.org/people/george-clooney-19610506.html&rut=c4d00cf00192c515e01e18c62dec226adb05ddc997d831afc72d2bc6fa897189'}, {'title': 'George Clooney Raised $14M for Biden Then Called for Him to Drop Out of ...', 'description': \"On June 15, 2024, George Clooney reportedly raised a significant sum for Biden's campaign at a fundraising event held in Los Angeles. On July 10, The New York Times published an opinion piece by ...\", 'url': 'm/l/?uddg=https://www.snopes.com/fact-check/george-clooney-raised-14m-biden-2024/&rut=b20d6c0e0699d1f8ab5a72280b5bc020357a616914e53b50bc53d9e0608bfdae'}, {'title': 'George Clooney, Robert Downey Jr., and More Stars Coming to Broadway', 'description': 'George Clooney, Denzel Washington, Robert Downey Jr. and All the Stars Heading to Broadway. ... Bernadette Peters at the Clive Davis 90th Birthday Celebration in 2022. Jamie McCarthy/Getty.', 'url': 'm/l/?uddg=https://people.com/stars-on-broadway-2024-2025-season-8670831&rut=5615b9986456f54123095c936b71c2d89f5e4d26996d273b43da38e5128ea2f2'}, {'title': \"Desperate Trump's Shocking Response to Clooney's Biden ... - MSN\", 'description': 'Donald Trump lashed out at George Clooney, after the Academy award-winning actor publicly urged Joe Biden to drop out of the presidential race. \"So now fake movie actor George Clooney, who never ...', 'url': 'm/l/?uddg=https://www.msn.com/en-us/news/politics/desperate-trump-s-shocking-response-to-clooney-s-biden-withdrawal-call/ar-BB1pO0u4&rut=6103167c7e263f1d4f8b8c61b70f753fa30dd879b3e63050a232887a232f2b4c'}]\n",
      "조지 클루니(George Clooney)의 생일은 1961년 5월 6일이에요.\n"
     ]
    }
   ],
   "source": [
    "if message.function_call:\n",
    "    function_name = message.function_call.name\n",
    "    args = ast.literal_eval(message.function_call.arguments)\n",
    "    function_response = duck_search(\n",
    "        query=args.get(\"query\"),\n",
    "    )\n",
    "    print(function_response)\n",
    "    completion_final = client.chat.completions.create(\n",
    "        model=\"gpt-4o\",\n",
    "        messages=[\n",
    "            {\"role\": \"user\", \"content\": \"조지 클루니 생일이 언제야?\"},\n",
    "            message,\n",
    "            {\n",
    "                \"role\": \"function\",\n",
    "                \"name\": function_name,\n",
    "                \"content\": function_response,\n",
    "            },\n",
    "        ],\n",
    "    )\n",
    "    print(completion_final.choices[0].message.content)"
   ],
   "metadata": {
    "collapsed": false
   }
  },
  {
   "cell_type": "code",
   "execution_count": 31,
   "outputs": [],
   "source": [
    "example_user_input = \"런던 날씨가 안 좋다면서?\""
   ],
   "metadata": {
    "collapsed": false
   }
  },
  {
   "cell_type": "code",
   "execution_count": 32,
   "outputs": [],
   "source": [
    "completion = client.chat.completions.create(\n",
    "    model=\"gpt-4o\",\n",
    "    messages=[{\"role\": \"user\", \"content\": example_user_input}],\n",
    "    functions=[\n",
    "      {\n",
    "          \"name\": \"get_different_responses\",\n",
    "          \"description\": \"답변을 여러가지 말투로 하기\",\n",
    "          \"parameters\": {\n",
    "              \"type\": \"object\",\n",
    "              \"properties\": {\n",
    "                  \"response_up\": {\n",
    "                      \"type\": \"string\",\n",
    "                      \"description\": \"답변을 높임말로 바꿈\",\n",
    "                  },\n",
    "                  \"response_down\": {\n",
    "                      \"type\": \"string\",\n",
    "                      \"description\": \"답변을 반말로 바꿈\",\n",
    "                  }\n",
    "              },\n",
    "              \"required\": [\"response_up\", \"response_down\"],\n",
    "          },\n",
    "      }\n",
    "    ],\n",
    "    function_call={\"name\": \"get_different_responses\"},\n",
    ")\n"
   ],
   "metadata": {
    "collapsed": false
   }
  },
  {
   "cell_type": "code",
   "execution_count": 33,
   "outputs": [
    {
     "name": "stdout",
     "output_type": "stream",
     "text": [
      "{\"response_up\":\"네, 요즘 런던은 우중충한 날씨가 많아요.\",\"response_down\":\"어, 요즘 런던 날씨가 별로야.\"}\n"
     ]
    }
   ],
   "source": [
    "reply_content = completion.choices[0].message\n",
    "print(reply_content.function_call.arguments)"
   ],
   "metadata": {
    "collapsed": false
   }
  },
  {
   "cell_type": "code",
   "execution_count": 34,
   "outputs": [],
   "source": [
    "example_user_input = \\\n",
    "\"\"\"레드햇 리눅스에서 새로운 사용자 만들고\n",
    "그 사용자에게 /usr/arb 폴더 읽기 쓰기 사용권한을 주려면 어떻게 해야 해?\"\"\""
   ],
   "metadata": {
    "collapsed": false
   }
  },
  {
   "cell_type": "code",
   "execution_count": 35,
   "outputs": [],
   "source": [
    "completion = client.chat.completions.create(\n",
    "    model=\"gpt-4o\",\n",
    "    messages=[{\"role\": \"user\", \"content\": example_user_input}],\n",
    "    functions=[\n",
    "      {\n",
    "        \"name\": \"get_commands\",\n",
    "        \"description\": \"Get a list of bash commands on an RedHat machine\",\n",
    "        \"parameters\": {\n",
    "            \"type\": \"object\",\n",
    "            \"properties\": {\n",
    "                \"commands\": {\n",
    "                    \"type\": \"array\",\n",
    "                    \"items\": {\n",
    "                        \"type\": \"string\",\n",
    "                        \"description\": \"A terminal command string\"\n",
    "                    },\n",
    "                    \"description\": \"List of terminal command strings to execute\"\n",
    "                }\n",
    "            },\n",
    "            \"required\": [\"commands\"]\n",
    "        }\n",
    "      },\n",
    "    ],\n",
    "    function_call={\"name\": \"get_commands\"},\n",
    ")"
   ],
   "metadata": {
    "collapsed": false
   }
  },
  {
   "cell_type": "code",
   "execution_count": 36,
   "outputs": [
    {
     "name": "stdout",
     "output_type": "stream",
     "text": [
      "{\"commands\":[\"sudo useradd newuser\",\"sudo usermod -aG wheel newuser\",\"sudo mkdir -p /usr/arb\",\"sudo chown newuser:newuser /usr/arb\",\"sudo chmod 755 /usr/arb\"]}\n"
     ]
    }
   ],
   "source": [
    "print(completion.choices[0].message.function_call.arguments)"
   ],
   "metadata": {
    "collapsed": false
   }
  },
  {
   "cell_type": "code",
   "execution_count": 37,
   "outputs": [],
   "source": [
    "import ast"
   ],
   "metadata": {
    "collapsed": false
   }
  },
  {
   "cell_type": "code",
   "execution_count": 38,
   "outputs": [],
   "source": [
    "example_user_input = \"주말에 친구들 오는데 뭐 먹지? 소고기랑 감자랑 밀가루 있어\""
   ],
   "metadata": {
    "collapsed": false
   }
  },
  {
   "cell_type": "code",
   "execution_count": 39,
   "outputs": [],
   "source": [
    "def get_recipes_with_ingredients(ingredients):\n",
    "  return f\"{ingredients} 를 다 볶아서 볶음밥으로 만들어 먹읍시다!\""
   ],
   "metadata": {
    "collapsed": false
   }
  },
  {
   "cell_type": "code",
   "execution_count": 40,
   "outputs": [],
   "source": [
    "completion =  client.chat.completions.create(\n",
    "    model=\"gpt-4o\",\n",
    "    messages=[{\"role\": \"user\", \"content\": example_user_input}],\n",
    "    functions=[\n",
    "      {\n",
    "          \"name\": \"get_recipes_with_ingredients\",\n",
    "          \"description\": \"주어진 텍스트에서 음식을 만들 수 있는 재료 이름을 뽑아낸다\",\n",
    "          \"parameters\": {\n",
    "              \"type\": \"object\",\n",
    "              \"properties\": {\n",
    "                  \"ingredients\": {\n",
    "                      \"type\": \"string\",\n",
    "                      \"description\": \"음식 재료\",\n",
    "                  },\n",
    "              },\n",
    "              \"required\": [\"ingredients\"],\n",
    "          },\n",
    "      }\n",
    "    ],\n",
    "    function_call={\"name\": \"get_recipes_with_ingredients\"},\n",
    ")"
   ],
   "metadata": {
    "collapsed": false
   }
  },
  {
   "cell_type": "code",
   "execution_count": 41,
   "outputs": [],
   "source": [
    "message = completion.choices[0].message"
   ],
   "metadata": {
    "collapsed": false
   }
  },
  {
   "cell_type": "code",
   "execution_count": 42,
   "outputs": [
    {
     "name": "stdout",
     "output_type": "stream",
     "text": [
      "주말에 친구들을 초대해서 맛있는 소고기와 감자를 활용한 볶음밥을 만들어 보는 건 어떨까요? 아래에 간단한 레시피를 소개할게요.\n",
      "\n",
      "### 소고기 감자 볶음밥 레시피\n",
      "\n",
      "#### 재료\n",
      "- 소고기: 200g\n",
      "- 감자: 2개\n",
      "- 밀가루: 2큰술\n",
      "- 밥: 2공기\n",
      "- 양파: 1/2개 (선택사항)\n",
      "- 간장: 2큰술\n",
      "- 설탕: 1큰술\n",
      "- 다진 마늘: 1작은술\n",
      "- 후추: 약간\n",
      "- 소금: 약간\n",
      "- 식용유: 2큰술\n",
      "- 참기름: 1큰술 (선택사항)\n",
      "- 대파: 약간 (선택사항)\n",
      "\n",
      "#### 준비\n",
      "1. 소고기는 얇게 썰고, 간장 1큰술, 설탕 1/2큰술, 다진 마늘, 후추로 재워줍니다.\n",
      "2. 감자는 껍질을 벗기고 작은 크기로 깍둑썰기 합니다.\n",
      "3. 양파와 대파는 잘게 썰어둡니다.\n",
      "\n",
      "#### 요리 과정\n",
      "1. 팬에 식용유를 두르고, 재워둔 소고기를 볶아줍니다.\n",
      "2. 소고기가 반 정도 익으면 감자와 양파를 넣고 볶아줍니다.\n",
      "3. 감자가 어느 정도 익으면 밥을 넣고 잘 섞어줍니다.\n",
      "4. 간장 1큰술과 설탕 1/2큰술, 소금, 후추로 간을 맞춥니다.\n",
      "5. 마지막으로 참기름을 넣고 다시 한 번 섞어줍니다.\n",
      "6. 다 볶아지면 대파를 뿌려 데코레이션합니다.\n",
      "\n",
      "이렇게 소고기와 감자를 메인 재료로 만든 볶음밥은 간단하면서도 맛있게 즐길 수 있는 메뉴입니다. 즐거운 시간 보내세요! 😊\n"
     ]
    }
   ],
   "source": [
    "if message.function_call:\n",
    "    function_name = message.function_call.name\n",
    "    args = ast.literal_eval(message.function_call.arguments)\n",
    "    function_response = (\n",
    "          get_recipes_with_ingredients(ingredients=args.get(\"ingredients\"))),\n",
    "    completion_final = client.chat.completions.create(\n",
    "        model=\"gpt-4o\",\n",
    "        messages=[\n",
    "            {\"role\": \"user\", \"content\": example_user_input},\n",
    "            message,\n",
    "            {\n",
    "                \"role\": \"function\",\n",
    "                \"name\": function_name,\n",
    "                \"content\": str(function_response),\n",
    "            },\n",
    "        ],\n",
    "    )\n",
    "    print(completion_final.choices[0].message.content)"
   ],
   "metadata": {
    "collapsed": false
   }
  },
  {
   "cell_type": "code",
   "execution_count": 43,
   "outputs": [
    {
     "name": "stdout",
     "output_type": "stream",
     "text": [
      "{\"ingredients\":\"소고기, 감자, 밀가루\"}\n"
     ]
    }
   ],
   "source": [
    "print(completion.choices[0].message.function_call.arguments)"
   ],
   "metadata": {
    "collapsed": false
   }
  },
  {
   "cell_type": "code",
   "execution_count": 44,
   "outputs": [],
   "source": [
    "import textwrap as tr"
   ],
   "metadata": {
    "collapsed": false
   }
  },
  {
   "cell_type": "code",
   "execution_count": 47,
   "outputs": [
    {
     "name": "stdout",
     "output_type": "stream",
     "text": [
      "주말에 친구들을 초대해서 맛있는 소고기와 감자를 활용한 볶음밥을 만들어 보는 건 어떨까요? 아래에 간단한\n",
      "레시피를 소개할게요.  ### 소고기 감자 볶음밥 레시피  #### 재료 - 소고기: 200g - 감자:\n",
      "2개 - 밀가루: 2큰술 - 밥: 2공기 - 양파: 1/2개 (선택사항) - 간장: 2큰술 - 설탕: 1큰술\n",
      "- 다진 마늘: 1작은술 - 후추: 약간 - 소금: 약간 - 식용유: 2큰술 - 참기름: 1큰술 (선택사항)\n",
      "- 대파: 약간 (선택사항)  #### 준비 1. 소고기는 얇게 썰고, 간장 1큰술, 설탕 1/2큰술, 다진\n",
      "마늘, 후추로 재워줍니다. 2. 감자는 껍질을 벗기고 작은 크기로 깍둑썰기 합니다. 3. 양파와 대파는 잘게\n",
      "썰어둡니다.  #### 요리 과정 1. 팬에 식용유를 두르고, 재워둔 소고기를 볶아줍니다. 2. 소고기가 반\n",
      "정도 익으면 감자와 양파를 넣고 볶아줍니다. 3. 감자가 어느 정도 익으면 밥을 넣고 잘 섞어줍니다. 4.\n",
      "간장 1큰술과 설탕 1/2큰술, 소금, 후추로 간을 맞춥니다. 5. 마지막으로 참기름을 넣고 다시 한 번\n",
      "섞어줍니다. 6. 다 볶아지면 대파를 뿌려 데코레이션합니다.  이렇게 소고기와 감자를 메인 재료로 만든\n",
      "볶음밥은 간단하면서도 맛있게 즐길 수 있는 메뉴입니다. 즐거운 시간 보내세요! 😊\n",
      "주말에 친구들을 초대해서 맛있는 소고기와 감자를 활용한 볶음밥을 만들어 보는 건 어떨까요? 아래에 간단한 레시피를 소개할게요.\n",
      "\n",
      "### 소고기 감자 볶음밥 레시피\n",
      "\n",
      "#### 재료\n",
      "- 소고기: 200g\n",
      "- 감자: 2개\n",
      "- 밀가루: 2큰술\n",
      "- 밥: 2공기\n",
      "- 양파: 1/2개 (선택사항)\n",
      "- 간장: 2큰술\n",
      "- 설탕: 1큰술\n",
      "- 다진 마늘: 1작은술\n",
      "- 후추: 약간\n",
      "- 소금: 약간\n",
      "- 식용유: 2큰술\n",
      "- 참기름: 1큰술 (선택사항)\n",
      "- 대파: 약간 (선택사항)\n",
      "\n",
      "#### 준비\n",
      "1. 소고기는 얇게 썰고, 간장 1큰술, 설탕 1/2큰술, 다진 마늘, 후추로 재워줍니다.\n",
      "2. 감자는 껍질을 벗기고 작은 크기로 깍둑썰기 합니다.\n",
      "3. 양파와 대파는 잘게 썰어둡니다.\n",
      "\n",
      "#### 요리 과정\n",
      "1. 팬에 식용유를 두르고, 재워둔 소고기를 볶아줍니다.\n",
      "2. 소고기가 반 정도 익으면 감자와 양파를 넣고 볶아줍니다.\n",
      "3. 감자가 어느 정도 익으면 밥을 넣고 잘 섞어줍니다.\n",
      "4. 간장 1큰술과 설탕 1/2큰술, 소금, 후추로 간을 맞춥니다.\n",
      "5. 마지막으로 참기름을 넣고 다시 한 번 섞어줍니다.\n",
      "6. 다 볶아지면 대파를 뿌려 데코레이션합니다.\n",
      "\n",
      "이렇게 소고기와 감자를 메인 재료로 만든 볶음밥은 간단하면서도 맛있게 즐길 수 있는 메뉴입니다. 즐거운 시간 보내세요! 😊\n"
     ]
    }
   ],
   "source": [
    "my_str = completion_final.choices[0].message.content\n",
    "lines = tr.wrap(my_str, width=60)\n",
    "[print(x) for x in lines]\n",
    "\n",
    "print(completion_final.choices[0].message.content)"
   ],
   "metadata": {
    "collapsed": false
   }
  },
  {
   "cell_type": "code",
   "execution_count": null,
   "outputs": [],
   "source": [],
   "metadata": {
    "collapsed": false
   }
  }
 ],
 "metadata": {
  "kernelspec": {
   "display_name": "Python 3",
   "language": "python",
   "name": "python3"
  },
  "language_info": {
   "codemirror_mode": {
    "name": "ipython",
    "version": 2
   },
   "file_extension": ".py",
   "mimetype": "text/x-python",
   "name": "python",
   "nbconvert_exporter": "python",
   "pygments_lexer": "ipython2",
   "version": "2.7.6"
  }
 },
 "nbformat": 4,
 "nbformat_minor": 0
}
