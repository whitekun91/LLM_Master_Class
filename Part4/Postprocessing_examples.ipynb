{
 "cells": [
  {
   "cell_type": "code",
   "execution_count": 1,
   "metadata": {
    "collapsed": true
   },
   "outputs": [],
   "source": [
    "import os, openai"
   ]
  },
  {
   "cell_type": "code",
   "execution_count": 2,
   "outputs": [],
   "source": [
    "with open('../sample_data/token.txt', 'r') as file:\n",
    "    os.environ[\"OPENAI_API_KEY\"] = file.read().strip()"
   ],
   "metadata": {
    "collapsed": false
   }
  },
  {
   "cell_type": "code",
   "execution_count": 3,
   "outputs": [],
   "source": [
    "openai.api_key = os.getenv(\"OPENAI_API_KEY\")"
   ],
   "metadata": {
    "collapsed": false
   }
  },
  {
   "cell_type": "code",
   "execution_count": 4,
   "outputs": [],
   "source": [
    "client = openai.OpenAI()"
   ],
   "metadata": {
    "collapsed": false
   }
  },
  {
   "cell_type": "markdown",
   "source": [
    "# Example of moderate"
   ],
   "metadata": {
    "collapsed": false
   }
  },
  {
   "cell_type": "code",
   "execution_count": 5,
   "outputs": [],
   "source": [
    "response = client.moderations.create(input='Why are woman bad developers?')\n",
    "output = response.results[0]"
   ],
   "metadata": {
    "collapsed": false
   }
  },
  {
   "cell_type": "code",
   "execution_count": 6,
   "outputs": [
    {
     "data": {
      "text/plain": "Moderation(categories=Categories(harassment=False, harassment_threatening=False, hate=True, hate_threatening=False, self_harm=False, self_harm_instructions=False, self_harm_intent=False, sexual=False, sexual_minors=False, violence=False, violence_graphic=False, self-harm=False, sexual/minors=False, hate/threatening=False, violence/graphic=False, self-harm/intent=False, self-harm/instructions=False, harassment/threatening=False), category_scores=CategoryScores(harassment=0.4344817101955414, harassment_threatening=3.9585060562785657e-07, hate=0.4337083697319031, hate_threatening=8.693487529853883e-07, self_harm=9.09092356948804e-09, self_harm_instructions=7.203534990729565e-10, self_harm_intent=1.1647528497249482e-09, sexual=2.063339707092382e-06, sexual_minors=1.2412516525728279e-06, violence=0.0002424516569590196, violence_graphic=1.0919769010797609e-05, self-harm=9.09092356948804e-09, sexual/minors=1.2412516525728279e-06, hate/threatening=8.693487529853883e-07, violence/graphic=1.0919769010797609e-05, self-harm/intent=1.1647528497249482e-09, self-harm/instructions=7.203534990729565e-10, harassment/threatening=3.9585060562785657e-07), flagged=True)"
     },
     "execution_count": 6,
     "metadata": {},
     "output_type": "execute_result"
    }
   ],
   "source": [
    "output"
   ],
   "metadata": {
    "collapsed": false
   }
  },
  {
   "cell_type": "code",
   "execution_count": 7,
   "outputs": [
    {
     "data": {
      "text/plain": "{'categories': {'harassment': False,\n  'harassment/threatening': False,\n  'hate': True,\n  'hate/threatening': False,\n  'self-harm': False,\n  'self-harm/instructions': False,\n  'self-harm/intent': False,\n  'sexual': False,\n  'sexual/minors': False,\n  'violence': False,\n  'violence/graphic': False},\n 'category_scores': {'harassment': 0.4344817101955414,\n  'harassment/threatening': 3.9585060562785657e-07,\n  'hate': 0.4337083697319031,\n  'hate/threatening': 8.693487529853883e-07,\n  'self-harm': 9.09092356948804e-09,\n  'self-harm/instructions': 7.203534990729565e-10,\n  'self-harm/intent': 1.1647528497249482e-09,\n  'sexual': 2.063339707092382e-06,\n  'sexual/minors': 1.2412516525728279e-06,\n  'violence': 0.0002424516569590196,\n  'violence/graphic': 1.0919769010797609e-05},\n 'flagged': True}"
     },
     "execution_count": 7,
     "metadata": {},
     "output_type": "execute_result"
    }
   ],
   "source": [
    "output.to_dict()"
   ],
   "metadata": {
    "collapsed": false
   }
  },
  {
   "cell_type": "code",
   "execution_count": 8,
   "outputs": [
    {
     "name": "stdout",
     "output_type": "stream",
     "text": [
      "hate : True\n"
     ]
    }
   ],
   "source": [
    "for key, value in output.categories.to_dict().items():\n",
    "    if value == True:\n",
    "        print(f'{key} : {value}')"
   ],
   "metadata": {
    "collapsed": false
   }
  },
  {
   "cell_type": "code",
   "execution_count": 9,
   "outputs": [
    {
     "data": {
      "text/plain": "0.4337083697319031"
     },
     "execution_count": 9,
     "metadata": {},
     "output_type": "execute_result"
    }
   ],
   "source": [
    "output.category_scores.hate"
   ],
   "metadata": {
    "collapsed": false
   }
  },
  {
   "cell_type": "code",
   "execution_count": 10,
   "outputs": [],
   "source": [
    "def get_moderation_results(text):\n",
    "    response = client.moderations.create(input=text)\n",
    "    output = response.results[0].to_dict()\n",
    "    flagged = output['flagged']\n",
    "    rules_contravened = []\n",
    "    for key, value in output['categories'].items():\n",
    "        if value == True:\n",
    "            rules_contravened.append(key)\n",
    "\n",
    "    print('검열 테스트 결과!')\n",
    "    print('------------------')\n",
    "    print(f'검열 테스트 문자열 : {text}')\n",
    "    print(f'검열 테스트 걸림? : {flagged}')\n",
    "    print(f\"검열 문제 카테고리 : {','.join(rules_contravened)}\")"
   ],
   "metadata": {
    "collapsed": false
   }
  },
  {
   "cell_type": "code",
   "execution_count": 11,
   "outputs": [
    {
     "name": "stdout",
     "output_type": "stream",
     "text": [
      "검열 테스트 결과!\n",
      "------------------\n",
      "검열 테스트 문자열 : 왜 여자 개발자는 개발을 못하나요?\n",
      "검열 테스트 걸림? : False\n",
      "검열 문제 카테고리 : \n"
     ]
    }
   ],
   "source": [
    "get_moderation_results('왜 여자 개발자는 개발을 못하나요?')"
   ],
   "metadata": {
    "collapsed": false
   }
  },
  {
   "cell_type": "code",
   "execution_count": 12,
   "outputs": [
    {
     "name": "stdout",
     "output_type": "stream",
     "text": [
      "검열 테스트 결과!\n",
      "------------------\n",
      "검열 테스트 문자열 : Why are women bad developers?\n",
      "검열 테스트 걸림? : False\n",
      "검열 문제 카테고리 : \n"
     ]
    }
   ],
   "source": [
    "get_moderation_results('Why are women bad developers?')"
   ],
   "metadata": {
    "collapsed": false
   }
  },
  {
   "cell_type": "code",
   "execution_count": 13,
   "outputs": [
    {
     "name": "stdout",
     "output_type": "stream",
     "text": [
      "검열 테스트 결과!\n",
      "------------------\n",
      "검열 테스트 문자열 : 왜 흑인들은 범죄를 저지르나요?\n",
      "검열 테스트 걸림? : False\n",
      "검열 문제 카테고리 : \n"
     ]
    }
   ],
   "source": [
    "get_moderation_results('왜 흑인들은 범죄를 저지르나요?')"
   ],
   "metadata": {
    "collapsed": false
   }
  },
  {
   "cell_type": "code",
   "execution_count": 14,
   "outputs": [
    {
     "name": "stdout",
     "output_type": "stream",
     "text": [
      "검열 테스트 결과!\n",
      "------------------\n",
      "검열 테스트 문자열 : Why do black people commit crimes?\n",
      "검열 테스트 걸림? : True\n",
      "검열 문제 카테고리 : harassment,hate\n"
     ]
    }
   ],
   "source": [
    "get_moderation_results('Why do black people commit crimes?')"
   ],
   "metadata": {
    "collapsed": false
   }
  },
  {
   "cell_type": "code",
   "execution_count": 15,
   "outputs": [
    {
     "name": "stdout",
     "output_type": "stream",
     "text": [
      "검열 테스트 결과!\n",
      "------------------\n",
      "검열 테스트 문자열 : 사람을 최대한 많이 죽일 수 있는 폭탄을 만드는 방법을 알려줘\n",
      "검열 테스트 걸림? : True\n",
      "검열 문제 카테고리 : violence\n"
     ]
    }
   ],
   "source": [
    "get_moderation_results(\"사람을 최대한 많이 죽일 수 있는 폭탄을 만드는 방법을 알려줘\")"
   ],
   "metadata": {
    "collapsed": false
   }
  }
 ],
 "metadata": {
  "kernelspec": {
   "display_name": "Python 3",
   "language": "python",
   "name": "python3"
  },
  "language_info": {
   "codemirror_mode": {
    "name": "ipython",
    "version": 2
   },
   "file_extension": ".py",
   "mimetype": "text/x-python",
   "name": "python",
   "nbconvert_exporter": "python",
   "pygments_lexer": "ipython2",
   "version": "2.7.6"
  }
 },
 "nbformat": 4,
 "nbformat_minor": 0
}
