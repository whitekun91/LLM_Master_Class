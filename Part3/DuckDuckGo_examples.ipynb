{
 "cells": [
  {
   "cell_type": "code",
   "execution_count": 1,
   "metadata": {
    "collapsed": true
   },
   "outputs": [],
   "source": [
    "from langchain_community.tools import DuckDuckGoSearchRun"
   ]
  },
  {
   "cell_type": "markdown",
   "source": [
    "# DuckDuckGo"
   ],
   "metadata": {
    "collapsed": false
   }
  },
  {
   "cell_type": "code",
   "execution_count": 2,
   "outputs": [],
   "source": [
    "search = DuckDuckGoSearchRun()"
   ],
   "metadata": {
    "collapsed": false
   }
  },
  {
   "cell_type": "code",
   "execution_count": 4,
   "outputs": [
    {
     "data": {
      "text/plain": "'Barack Obama, the 44th President of the United States, broke barriers as the first African-American president and implemented significant healthcare reforms during his tenure. Most common names of U.S. presidents 1789-2021. The most common first name for a U.S. president is James, followed by John and then William. Six U.S. presidents have been called James, although ... It was in this highly polarized environment that Obama and the Democrats attempted to enact health care insurance reform. Barack Obama - 44th President, Political Career, Legacy: In 1996 he was elected to the Illinois Senate, where, most notably, he helped pass legislation that tightened campaign finance regulations, expanded health care to ... United States - Obama, Presidency, Reforms: The crisis worked against McCain, whom many voters associated with the unpopular policies of the administration, and worked for the highly charismatic Obama, whose campaign from its outset had been based on the theme of sweeping political change. Obama defeated McCain, becoming the first African American elected to the presidency. He captured nearly ... Michelle LaVaughn Robinson Obama [1] ( née Robinson; born January 17, 1964) is an American attorney and author who served as the first lady of the United States from 2009 to 2017, being married to Barack Obama, the 44th president of the United States.'"
     },
     "execution_count": 4,
     "metadata": {},
     "output_type": "execute_result"
    }
   ],
   "source": [
    "search.run(\"Obama's first name?\")"
   ],
   "metadata": {
    "collapsed": false
   }
  },
  {
   "cell_type": "code",
   "execution_count": 5,
   "outputs": [
    {
     "data": {
      "text/plain": "'이순신 장군은 임진왜란에서 수많은 왜구를 물리쳐 우리나라를 구하신 분이고 세계적으로도 매우 뛰어난 장수로 알려져 있는데요 이 이순신 장군은 언제 태어나신 건가요? 55글자 더 채워주세요. 3개의 답변이 있어요! 1. 태생 → 1545년 4월 28일(1545년~1598년) 현재의 서울에서 태어났으며 아버지 \"이정\" 군인 출신의 아들로 태어났다 아버지 \"이정\"은 조선시대 무신으로 해안방어를 담당하는 무관으로 복무하였습니다. 2. 가족관계 → 본인(이순신), 배우자(윤 씨), 아들(이호) 3. 명언 1. 전투가 한창이다. 나는 조국을 위해 ... 조선시대 최고의 영웅으로 불리는 이순신 장군님은 어떤 분이셨고, 우리나라 역사에 얼마나 큰 영향을 끼치셨는지 함께 알아보시죠! 이순신 장군의 초기 생애와 배경 1545년 4월 28일 충청도에서 태어난 이순신 장군은 어린 시절부터 군사적인 재능을 보였으며, 1 이순신 장군은 1545년 4월 28일에 한성부 건천동에서 태어났습니다. 현재는 서울특별시 중구 을지로 18길 19 (인현동1가)에 해당됩니다. 이순신 장군의 묘소는 광해군 6년 (1614) 생가가 있는 아산으로 이장하였으며, 현충사는 숙종 32년 (1706)에 어명으로 처음 만들어진 ... 이순신 장군의 생애와 업적은 어떤 것이 있는지 알아보고, 난중일기, 한산대첩의 학익진과 노량해전에 대해서 알아보겠습니다. 필사즉생 필생즉사(必死卽生 必生卽死) : 명량해전에서살고자 하면 죽을 것이요, 죽고자 하면 살 것이다. 1. 충무공 이순신 장군의 역사적 의의 이순신 장군은 조선 역사상 ...'"
     },
     "execution_count": 5,
     "metadata": {},
     "output_type": "execute_result"
    }
   ],
   "source": [
    "search.run('이순신 장군이 언제 태어나셨어?')"
   ],
   "metadata": {
    "collapsed": false
   }
  },
  {
   "cell_type": "markdown",
   "source": [
    "# Youtube"
   ],
   "metadata": {
    "collapsed": false
   }
  },
  {
   "cell_type": "code",
   "execution_count": 6,
   "outputs": [],
   "source": [
    "from langchain_community.tools import YouTubeSearchTool"
   ],
   "metadata": {
    "collapsed": false
   }
  },
  {
   "cell_type": "code",
   "execution_count": 7,
   "outputs": [],
   "source": [
    "tool = YouTubeSearchTool()"
   ],
   "metadata": {
    "collapsed": false
   }
  },
  {
   "cell_type": "code",
   "execution_count": 8,
   "outputs": [
    {
     "data": {
      "text/plain": "\"['https://www.youtube.com/watch?v=7_hRb-SOnZM&pp=ygUM67mE7Yq47L2U7J24', 'https://www.youtube.com/watch?v=lkyMIUzkBjQ&pp=ygUM67mE7Yq47L2U7J24']\""
     },
     "execution_count": 8,
     "metadata": {},
     "output_type": "execute_result"
    }
   ],
   "source": [
    "tool.run('비트코인')"
   ],
   "metadata": {
    "collapsed": false
   }
  },
  {
   "cell_type": "code",
   "execution_count": 22,
   "outputs": [],
   "source": [
    "from langchain.document_loaders import YoutubeLoader # 유튜브 로더\n",
    "from langchain_openai import OpenAIEmbeddings    # 임베딩용\n",
    "from langchain.vectorstores import FAISS             # 벡터 스토어 종류\n",
    "from langchain.chains import RetrievalQA             # 질문 답변 툴\n",
    "from langchain_openai import ChatOpenAI              # OpenAI 쓸 수 있는 툴\n",
    "from pprint import pprint                            # 아웃풋 프린트 툴 (필요 없음)"
   ],
   "metadata": {
    "collapsed": false
   }
  },
  {
   "cell_type": "code",
   "execution_count": 23,
   "outputs": [],
   "source": [
    "import os, openai"
   ],
   "metadata": {
    "collapsed": false
   }
  },
  {
   "cell_type": "code",
   "execution_count": 24,
   "outputs": [],
   "source": [
    "with open('./sample_data/token.txt', 'r') as file:\n",
    "    os.environ[\"OPENAI_API_KEY\"] = file.read().strip()"
   ],
   "metadata": {
    "collapsed": false
   }
  },
  {
   "cell_type": "code",
   "execution_count": 25,
   "outputs": [],
   "source": [
    "openai.api_key = os.getenv(\"OPENAI_API_KEY\")"
   ],
   "metadata": {
    "collapsed": false
   }
  },
  {
   "cell_type": "code",
   "execution_count": 26,
   "outputs": [],
   "source": [
    "embeddings = OpenAIEmbeddings()"
   ],
   "metadata": {
    "collapsed": false
   }
  },
  {
   "cell_type": "code",
   "execution_count": 27,
   "outputs": [],
   "source": [
    "loader = YoutubeLoader.from_youtube_url(\"https://www.youtube.com/watch?v=HsonXuJs8-s\")\n",
    "documents = loader.load()"
   ],
   "metadata": {
    "collapsed": false
   }
  },
  {
   "cell_type": "code",
   "execution_count": 28,
   "outputs": [],
   "source": [
    "# 벡터스토어 만듭니다. 이것도 다음 파트에서 자세하게 다루겠습니다!\n",
    "db = FAISS.from_documents(documents, embeddings)\n",
    "retriever = db.as_retriever()"
   ],
   "metadata": {
    "collapsed": false
   }
  },
  {
   "cell_type": "code",
   "execution_count": 29,
   "outputs": [],
   "source": [
    "llm = ChatOpenAI(model_name=\"gpt-4o\")"
   ],
   "metadata": {
    "collapsed": false
   }
  },
  {
   "cell_type": "code",
   "execution_count": 30,
   "outputs": [],
   "source": [
    "# RetrievalQA 를 써서 \"가져오는 기계\" 만듭니다\n",
    "qa = RetrievalQA.from_chain_type(\n",
    "    llm=llm,\n",
    "    # chain_type=\"stuff\",\n",
    "    retriever=retriever,\n",
    "    return_source_documents=True)"
   ],
   "metadata": {
    "collapsed": false
   }
  },
  {
   "cell_type": "code",
   "execution_count": 32,
   "outputs": [],
   "source": [
    "query = \"What are the benefits of cold showers? 한국말로 답해줘.\"\n",
    "result = qa({\"query\": query})"
   ],
   "metadata": {
    "collapsed": false
   }
  },
  {
   "cell_type": "code",
   "execution_count": 33,
   "outputs": [
    {
     "name": "stdout",
     "output_type": "stream",
     "text": [
      "('콜드 샤워의 잠재적인 이점은 다음과 같습니다:\\n'\n",
      " '\\n'\n",
      " '1. **면역력 증진**: 2016년 PLOS One에 발표된 연구에 따르면, 아침에 짧은 콜드 샤워를 한 사람들이 따뜻한 샤워를 한 '\n",
      " '사람들보다 병가를 29% 적게 사용했습니다. 그러나 왜 그런 결과가 나왔는지에 대한 생물학적 표지는 측정되지 않았습니다.\\n'\n",
      " '\\n'\n",
      " '2. **에너지 증가**: 많은 참가자들은 콜드 샤워 후 에너지가 증가했다고 느꼈으며, 실험 후에도 콜드 샤워를 계속했다고 '\n",
      " '보고했습니다.\\n'\n",
      " '\\n'\n",
      " '3. **기분 개선**: 콜드 샤워가 기분을 좋게 한다는 주장도 있습니다. 2008년 Medical Hypothesis에 발표된 한 '\n",
      " '연구는 콜드 샤워가 교감 신경계를 활성화시켜 심장 박동수를 증가시키고 엔돌핀을 방출하여 기분을 좋게 할 수 있다고 가설을 세웠습니다. '\n",
      " '그러나 이 연구는 데이터 포인트가 세 개에 불과하며, 그 중 하나는 논문의 저자였습니다.\\n'\n",
      " '\\n'\n",
      " '이러한 이점들은 아직 확실하게 입증되지 않았으며, 더 많은 연구가 필요합니다.')\n"
     ]
    }
   ],
   "source": [
    "pprint(result['result'])"
   ],
   "metadata": {
    "collapsed": false
   }
  },
  {
   "cell_type": "code",
   "execution_count": 34,
   "outputs": [],
   "source": [
    "# 로딩을 한국어로\n",
    "loader = YoutubeLoader.from_youtube_url(\"https://www.youtube.com/watch?v=4-cmJPA2Klg\", language='ko')\n",
    "documents = loader.load()"
   ],
   "metadata": {
    "collapsed": false
   }
  },
  {
   "cell_type": "code",
   "execution_count": 35,
   "outputs": [],
   "source": [
    "# create the vectorestore to use as the index\n",
    "db = FAISS.from_documents(documents, embeddings)\n",
    "retriever = db.as_retriever()\n",
    "llm = ChatOpenAI(model_name=\"gpt-4o\")"
   ],
   "metadata": {
    "collapsed": false
   }
  },
  {
   "cell_type": "code",
   "execution_count": 36,
   "outputs": [],
   "source": [
    "qa = RetrievalQA.from_chain_type(\n",
    "    llm=llm,\n",
    "    chain_type=\"stuff\",\n",
    "    retriever=retriever,\n",
    "    return_source_documents=True)"
   ],
   "metadata": {
    "collapsed": false
   }
  },
  {
   "cell_type": "code",
   "execution_count": 37,
   "outputs": [],
   "source": [
    "query = \"대강 무슨 내용이야?\"\n",
    "result = qa({\"query\": query})"
   ],
   "metadata": {
    "collapsed": false
   }
  },
  {
   "cell_type": "code",
   "execution_count": 38,
   "outputs": [
    {
     "name": "stdout",
     "output_type": "stream",
     "text": [
      "('이 내용은 40대 중장년층의 경제적 어려움과 관련된 기사입니다. 주요 내용은 다음과 같습니다:\\n'\n",
      " '\\n'\n",
      " '1. **고용 문제**: 40대 취업자 수가 제조업과 남성을 중심으로 줄어들고 있으며, 40대의 경제활동 인구도 감소하고 있습니다.\\n'\n",
      " '2. **경제 부담**: 고금리와 인건비 상승 등으로 인해 40대의 경제적 부담이 커지고 있습니다.\\n'\n",
      " '3. **경력 단절**: 여성의 경우 40대에서 경력 단절이 30대보다 많아지고 있습니다.\\n'\n",
      " '4. **정책 필요성**: 전문가들은 임금체계 개편과 더불어 40대가 노동시장에 재진입할 수 있도록 제도 정비와 직무 재교육 훈련 지원이 '\n",
      " '필요하다고 지적하고 있습니다.\\n'\n",
      " '5. **창업과 신산업**: 자영업 창업 정보와 신산업 관련 역량 향상에 대한 필요성도 언급되고 있습니다.\\n'\n",
      " '\\n'\n",
      " '요약하자면, 40대 중장년층이 직면한 경제적 도전과 이를 해결하기 위한 정책적 지원의 필요성을 다루고 있습니다.')\n"
     ]
    }
   ],
   "source": [
    "pprint(result['result'])"
   ],
   "metadata": {
    "collapsed": false
   }
  },
  {
   "cell_type": "code",
   "execution_count": 42,
   "outputs": [],
   "source": [
    "# 자꾸 반복되는데 그냥 펑션으로 만들면?\n",
    "def ask_youtube(url, q, language='en'):\n",
    "  loader = YoutubeLoader.from_youtube_url(url, language=language)\n",
    "  documents = loader.load()\n",
    "\n",
    "  # create the vectorestore to use as the index\n",
    "  db = FAISS.from_documents(documents, embeddings)\n",
    "  retriever = db.as_retriever()\n",
    "  llm = ChatOpenAI(model_name=\"gpt-4o\")\n",
    "\n",
    "  qa = RetrievalQA.from_chain_type(\n",
    "      llm=llm,\n",
    "      chain_type=\"stuff\",\n",
    "      retriever=retriever,\n",
    "      return_source_documents=True)\n",
    "\n",
    "  return qa({\"query\": q})"
   ],
   "metadata": {
    "collapsed": false
   }
  },
  {
   "cell_type": "code",
   "execution_count": 43,
   "outputs": [
    {
     "name": "stdout",
     "output_type": "stream",
     "text": [
      "{'query': '그래서 인생이 망가지는 이유가 뭔데?',\n",
      " 'result': '영상에서 설명된 바에 따르면, 인생이 망가지는 주된 이유는 디드로 효과 때문입니다. 디드로 효과는 하나의 물건을 '\n",
      "           '구입하면 그에 어울리는 다른 물건들을 계속 구매하게 되는 현상을 말합니다. 특히 자동차를 예로 들면, 단순히 '\n",
      "           '교통수단으로만 사용하겠다고 생각해도 결국 그에 맞는 더 많은 소비를 하게 되며, 이는 경제적 부담을 가중시킵니다.\\n'\n",
      "           '\\n'\n",
      "           '자동차를 구매하면 주차 공간이 있는 집을 찾게 되거나, 자동차를 활용한 여가활동을 즐기게 되어 더 많은 소비를 하게 '\n",
      "           '되는 등, 예상치 못한 추가 비용이 발생합니다. 이러한 소비 패턴은 경제적 자유를 방해하고, 결국 부자가 되기 위한 '\n",
      "           '공통된 원칙들을 지키지 못하게 만듭니다. \\n'\n",
      "           '\\n'\n",
      "           '따라서, 자동차 같은 큰 소비를 피하고 경제적 자유를 위해 검소하게 생활하며, 부를 늘리는데 시간과 에너지를 투자하는 '\n",
      "           '것이 중요하다는 메시지를 전달하고 있습니다.',\n",
      " 'source_documents': [Document(metadata={'source': 'JdpuWQaH5Eo'}, page_content='최근에 월요일 저녁마다이 마인드 관련된 영상들 하나씩 찍어서 올리고 있는데 오늘 할 얘기도 약간 마인드 관련된 얘기입니다 자동차가 내 인생을 망치는 이유에 대해서 한번 말을 해 보고 싶습니다이 이웃집 백만장자 변하지 않는 부해 법칙에 나왔던 얘기를 가지고 한번 풀어 보려고 하는데이 책에 이런 내용이 나옵니다 부자들의 공통점이라는게 있어요 뭐냐면 첫 번째 부에 비해서 검소하게 생활한다 두 번째 부를 늘리는데 시간 돈 에너지를 쏟는다 이게 되게 중요하죠 세 번째 겉모습보다는 경제적 자유에 좀 더 집중을 하는 경향이 있고 성인 자녀에게 경제적 지원을 하지 않는다 그 성인 자녀들이 자립적 성향을 가지고 있다 당연히 지원 안 하니까 자립적인 성향을 가지고 있겠죠 그리고 여섯 번째 돈 벌 기회가 있을 때 잡았다는 공통점이 있고 그리고 부자가 되기 적절한 직업을 가지고 있더라라는게이 책에서 정리한 부자들의 공통점 일곱 가지였습니다 근데 이런 얘기를 하잖아요 그러면 이제 항상 달리는 어떤 댓글이나 반응이 있어요 뭐냐면 당연한 얘기하고 있냐 당연한 얘기들 아닌가 돈 벌 기회를 잡았고 부자될 수 있는 직업을 가지고 있고 거기 돈을 버는데 애 에너지와 시간을 쏟는 건 당연한 거 아니냐라고 얘기를 하실 수가 있는데 사실 거꾸로 물어보면은 이게 당연한 얘긴데 왜 못 하냐라고 물어보면은 어 그러게요 제가 왜 못 하죠라고 슬그머니 꼬리를 내릴 수밖에 없습니다 무슨 소리냐 부자되는게 어려운게 내용이 어려운게 아니라 그걸 지켜 나가면서 꾸준히 그걸 해 나가는 그 노력이 그 의지와 그 실제로 시간 투자가 어려운 거죠 그러다 보니까 이게 실제이 일곱 가지의 공통점을 말하고 이거를 하면은 부자가 됩니다라고 말해도 지키는 사람은 그 무입니다 아마 우리 시청자분들 중에 저거를 지키는 분들은 거의 없을 것이다 반대로 우리가 잘 지키는 거 있습니다 바로 부자가 못 되는 공통점인 방금 말한 그 일곱 가지를 바꾸면 됩니다 뭐냐 우리가 잘하는 거 있죠 가진 것에 비해서 과소비하는 거 이거 우리가 진짜 잘하죠 그리고 불을 늘리는데 시간 돈 에너지를 안 씁니다 넷플릭스를 보거나 어떤 여행 계획을 세우거나 아니면 친구와 수다를 떨거나 주말에 어디 놀러 가는 거에는 시간을 많이 쓰시는데이 뭔가 부자가 되는데 뭔가 공부를 한다거나 뭐 거기다 돈을 막 투자를 한다거나 아니 여기에 내 온 신경을 다 쏟는 일들은 안 해요 그러니까 어떻게 됩니까 경제력이 나쁘죠 경제력이 나빠지는데 부자인 것처럼 보이고는 싶어 어 우리나라는 또 비교의 민족이기 때문에 그러다 보니까 어떻게 됩니까 겉보기에 치중을 많이 합니다 그래서 우리가 돈은 없어도 우리가 돈은 없지 가우가 없냐 하면서 항상 가오를 챙기는 사람들이 많죠 항상 이게 술을 먹고 나면은 내가 계산한다 하면서 막 지르는 사람들도 있고 남이 사는 꼴 못 본다 이렇게 말하면서 사실상 경제적으로 되게 힘들어하는 분들도 많습니다 거기다가 이것도 잘하죠 성인 자녀들이 있는 분들은 사실은 성인이라는 거는 알아서 어 스스로 해야 되는 건데 그게 잘 안 되죠 그러다 보니까 이제 꾸준히 지원을 해 줘요 아 우리 애가 좀 잘 됐으면 해 가지고 뭐 용돈도 주고 그리고 뭐 직업을 못 얻으면 어떻게든 뭐 좀 챙겨 주고 그리고 뭐 애가 뭐 자취를 한다 그래도 우리 부모님 우리 어머니들은 가만두질 못해 걱정돼 가지고 어떻게 합니까 어떻게든 가서 뭐 청소도 해주고 뭐 반찬도 해주고 어떻게든 챙겨 줘 그러니까 그렇게 잘한 자녀들이 어떻게 되죠 성인인데 의존적 성향을 가지고 있습니다 그래서 우리가 부자가 못 되는 공통점을 보면은 는 사실 어 우리가 되게 많이 하고 있는 것들이에요 거기다가 돈 벌 기회가 있을 때가 분명히 있거든요 근데 그 준비를 안 해요 그니까 2번을 안 하니까 당연히 6번이요 그러니까 준비가 안 돼 있으니까 뭐 합니까 항상 껄껄껄 만 하잖아요 그때 할 걸 막 그때 하지 말 걸 하면서 막 그런 준비가 안 돼 있다는 거를 스스로 인정하는 멘트들을 많이 합니다 거기다가 또 이런 것도 있죠 뭐 이런게 된 분들도 있는데 이게 고소득이 직업을 얻어라 아니라 부자가 되기 쉬운 직업이라는게 뭐냐면 안정적으로 꾸준히 뭔가 돈을 창출이 된다거나 아 연봉이 안정적으로 올라간다 다거나 이렇게 해서 내가이 시간을 투자한 거 대비 어쨌든 보상이 좀 들어오는 직업을 가지고 있어야 되는데 직장이 좀 부실하다 그나 아니면은 막 자영업을 하고 있어 가지고 매출이 막 들쑥날쑥 한다거나 하면서 무언가 부자가 될 준비를 하기가 좀 어려운 직업을 가지고 있는 분들도 많죠이 일곱 가지를 지키는게 훨씬 쉽고 우리가 아마 대부분 시청자 여러분들은 이걸 지키고 있을 겁니다 자이 책에서 나오는 얘기인데 오늘의 어제 보면 핵심 주제입니다이 디드로 효과라는게 있다고 합니다 디드로 효과가 뭐냐면이 철학자가 얘기를 한 건데 친구 친구가 어느 날 철학자이 디드로 테 빨간색 까운을 하나 줬다고 합니다 그러면서 이걸 한번 입어 봐 이쁘니까라고 한 거예요 그래서 이분이 마음에 들었나 봐 그래가지고 빨간색 가운을 딱 입고 집에 있다 보니까 어 잠깐만 우리 집에 빨간색이 없네 해서 하나씩 가구랑 카페트랑 이런 것들을 빨간 걸로 바꾸기 시작했다는 거야 그러다 보니까 어떻게 됐냐 빨간 가운이 하나가 우리 집에 들어왔을 뿐인데 모든 가구들을 다 바꿨다 그게 바로 디드로 효과입니다이 디드로 효과는 이렇게 정리할 수 있습니다 하나의 물건을 구입하니까 그의 어 떠올리는 또 다른 제품들을 계속 구매하는 현상을 말하는 건데 이게 우리 인생을 조금씩 갉아먹으면서 망치게 하는 그런 효과죠 자 자동차야 말로이 강력한 디드로우 효과를 보여줍니다 그래서 돈을 모으라고 하는 사람들 그리고 뭔가 투자를 하는 사람들 뭔가 재테크를 하는 사람들이 가능하면 자동차를 사지 말라고 말하는게 바로이 디드로 효과 때문인데이 자동차는 단순한 교통 수단이 아닙니다 그래서 처음에는 자동차를 그냥 어 저 어차피 뭐 출퇴근 하려고 사요라는 식으로 뭔가 단순하게 샀지만 절대 이렇게 끝나지 않는다 자동차를 사는 순간 더 이상 돌아갈 수 없는 몸이 돼 버립니다 자동차가 생기잖아요 그러면 그에 맞는 소비를 하게 됩니다 왜 나는 자동차가 있는 사람이니까 자동차에 걸맞는 소비를 할 수밖에 없다는 거죠 까운을 사서 어느 순간 모든 가구를 다 바꾸듯이 말이죠 차가 없을 때는 할 수 없었던 거를 하려고요 이게 사람의 어떤 본성입니다 어 나는 원래 차가 없었으니까 뭔가 차가 필요한 데를 안 가둔 사람이었죠 근데 차가 생겼어 그럼 어떻게 합니까 나는 차가 생겼으니까 차를 가지고 할 수 있는 거를 하려고 하는 거죠 그래서 뭘 하냐 기본적으로 나는 차가 없을 때는 원룸에 살아도 상관없었어 왜냐면 난 차가 없으니까 주차장이 필요가 없었죠 근데 내가 이제 차를 갖게 되면 어떻게 하죠 집을 고를 때 어 주차가 되는지를 따져보게 됩니다 그럼 주차가 된다는 건 뭐죠 차에 걸맞는 집이 필요한 거죠 그러니까 어느 순간 집을 조금 더 좋은 데를 살아야 돼 주차가 불편하면 아 왠지 짜증이나 차가 없었다면 하지 않을 소비나 하지 않을 사고적인 판단들을 하기 시작하는 거죠 거기다가 내가 주말에 어디 간다거나 아니면 휴가 있을 때 어떡하죠 원래 차가 없었잖아요 차가 없었기 때문에 차가 없어도 갈 수 있는 곳을 가려고 한다거나 차와 상관없는 어떤 선택들을 했었을 텐데 이제는 차가 있죠 그까 그에 걸 맞는 선택을 해야 됩니다 어떻게 하죠 차로만 갈 수 있는 곳을 가게 되죠 여행을 떠난다던 드라이브를 많이 간다든지 아니 뭐 요즘에 뭐 캠핑도 많이 하시니까 캠핑을 한다든지 등등 차로 인해서 내가 하지 않았던 소비율을 많이 하게 됩니다 자 그럼 이제 이런 반문을 하시는 분들도 있을 겁니다 아니 그러면 차를 샀는데 가만히 세워 두라는 얘기냐 차가 있으니까 차를 가지고 캠핑도 가고 하는 거죠 그게 오히려 싸게 먹힙니다 뭐 이런 생각들을 하시는 분들도 있는데 반대로 생각을 해 보세요 내가 가만히 세워둘 일이 많은 사람이라면 왜 샀냐 이거죠 내가 차를 매일매일 타야 되고이 차를 가지고 막 돈을 벌고 뭔가 뭐 진짜 뭐 포터에 배출을 싣고 다니면서 배추를 파는 사람이면 차가 필수품이 겠는데 그게 아닌 사람들이 훨씬 많거든요 그니까 가만히 세워둘 순 없잖아 그러니까 주말에 차를 좀 타야 됩니다 이런 그 선후가 바뀌는 사고 방식을 갖게 됐다면 나는 도대체 왜 산 걸까 어차피 세워놓을 거를 내가 왜 샀지라고 스스로에게 물어볼 필요가 있습니다 자 그럼 여기서 또 이런 얘기 하시는 분들이 있습니다 지방이라 차가 없으면 생활이 안 됩니다라고 말을 하시는 분들도 많은데 이것도 사실 틀린 얘기죠 왜 그러냐 지방이라고 해서 무조건 차가 필요한 거는 아닙니다 그렇지만 교통이 불편하기 때문에 차가 필요하다 인정할 수 있어요 그러면 중고 경찰을 사면 되는 거죠 어차피 나는 차가 필요한 거고 교통 수단이 필요한 건데 그럼 제일 싼 거 그것도 감가 성각 많이 된 중고를 사 가지고 이동만 하면 되는 거잖아요 근데 왜 비싼 차를 사냐 어 요런 댓글 달린 분이 있습니다 영상 보기가 무섭다 어 요즘에 제가 좀 약간 절약에 대한 얘기 마인드에 대한 얘기하니까 영상 보기가 무섭다 왜 신차를 사야 되니까 1년만 더 열심히 일해 가지고 신차를 사겠습니다 그래 제가 하트를 눌러 드렸습니다 그렇지만이 하트가 좋아요는 아니죠 열심히 하란 얘기입니다 왜 왜 신차를 사야 되는가 나는 교통 수단인데이 비싼 차는 더 문제입니다 뭐냐 차가 생김으로써 디드로 효과가 일어나는데 비싼 차는 추가적인 디드로 효과가 일어납니다 내가 경찰을 탈 때랑 그랜저를 탈 때랑 g 80을 탈 때랑 그의 걸 맞는 소비가 달라진다 이런 얘기하시는 분들도 있습니다 경차는 사고나면 큰일 난다 그러면이 말은 본질이 뭡니까 경차가 도시에서 사고가 난다고 큰 일이 나겠습니까 시속 30km 50km 달리는이 도시에서 맨날 막혀 가지고이 속도를 낼데도 없는데 사고가 나봐야 뭐 얼마나 크게 나겠습니까 근데 경찰을 사서 사고 나면 큰일 난다는 얘기를 하시는 분들은 대부분 교회로 나간다든지 뭔가 야외로 나갈 일들이 많다는 거죠 그걸 염두에 두고 지금 말을 하는 거죠 내가 서울 사는데 부산 가다가 사고 나면 어떡해요라는 거는 내가 부산을 가겠다는 의지의 표현 아닙니까 그러니까 이렇게 경찰을 좀 경시한다 거 자체가 내가 이걸 사 가지고 단순한 교통 수단보다는 취미 생활 겸 추가적인 소비를 하려고 하는 의지가 훨씬 더 강하다고 저는 생각을 합니다 자 아까 말했던 거 있죠 부을 만드는데 시간 에너지 돈 투자를 많이 해야 된다 이래야 부자가 되더라라는 그 공통점이 있다고 했는데 차를 사본 분들은 아실 겁니다 차를 사는 순간 이것과 멀어집니다 불을 만드는데 시간을 쓰기도 좀 어 점점 줄어들고요 에너지도 많이 뺏기고 그리고 돈도 다른데 이제 줄줄 세기 시작합니다 그럼 여기까지가 이제 차를 통해서 내가 예상보다 더 큰 소비를 하면서이 내 인생이 살짝씩 꼬여가는 거를 설명을 드렸는데 또 하나 또 하나의 강력한 소비가 있습니다 또 하나의 강력한 디드로 효과를 되는게 바로이 전 월세입니다이 전 월세를 사는 순간 디드로 효가가 발생하기 시작합니다 무슨 소리냐 아니 전월세는 살아야 되는 거 아닙니까 잘 한번 생각을 해 보세요이 매매는 자산을 매수하는 거죠 자산이 오를 수도 있고 빠질 수도 있습니다 그렇지만이 전월 세라는 건 뭐죠 임차 임차 철저하게 소비이 전세 월세를 사는 순간 무조건 소비가 일어난다이 전월세 산다고 해서 돈을 벌 방법은 없잖아요 그러면 이거를 단순화해 보면 차나 전세 집이나 똑같은 개념이다 자 제가 아까 차를 얘기를 할 때는 아 그래 맞아 저 카푸어 돈 뭐 월급 300에 안 되는데 막 그랜저를 사고 막 팰리세이드를 산단 말이야이 카푸어 뭐 이렇게 얘기하면서 찌찌찌 거리는 분들도 있으셨을 텐데이 분들한테 거꾸로 물어보면 돼요 아니 본인은 그러면은 죽어 전세 월세는 과연 본인에게 알맞게 절약해서 잘 얻었는가라고 물어보면은 어 그건 아닌데라고 생각하는 분들도 많을 겁니다 남욕 할 때가 아니라는 거죠 좋은 집에 사는 순간 걸맞는 소비를 하게 됩니다 왜 그러냐 이것도 사야 돼 그리고 이건 필수야 저건 없어 저것 없으면 큰일나 막 이런 것들이 막 생기는 거야 내가 작은 집 좀 나쁜 집에 살 때 들어가는 소비와 좋은 집 멋진 집에 살면 살수록 소비가 달라진다 어머 이건 꼭 사야 돼 뭐 이런 짤방 있죠 이것처럼이 집에 걸만 는 물건을 집어 넣어야만 끝납니다 그래서이 디드로 효과가 강력하게 일어나는 거죠 구글에서 자취집 꾸미기 뭐 자취방 꾸미기 하면은 이쁜 사진들이 많이 나옵니다 그래서이 요즘에는 이렇게 자기 집을 꾸미고 살고 싶어요라고 말하는 분들도 정말 많이 늘었어요 그리고 기왕 사는 거 자기 집 좀 이쁘게 해 놓고 남들한테 좀 이렇게 뭐 보여 줄 때 좋으면 얼마나 좀 괜찮을까라는 생각에 막 열심히 꾸미려고 하시는 분들도 많거든요 근데 저는 이렇게 말씀드리고 싶습니다 뭐냐 그냥 안 좋은 집에 살아라 왜 그러냐 꾸밀 마음이 안 된다 어 안 좋은 집에 살면은 꾸밀 마음이 안 들어요 그게 무슨 소리냐 내가 집을 꾸미려는 생각이 들었다 이거 자체가 이미 나는 과소비를 한 거라는 겁니다 어 왜 꾸미고 싶을까요 생각해 보세요 그러면이 집을 그냥 생활 공간이라고 생각을 안 하는 거죠 이건 나의 약간 라이프스타일을 좀 보여 주는 거고 난 여기서 시간을 많이 보내기 때문에 여기서 무언가를 좀 하면서 이왕 보내는 거 좀 멋지게 살고 싶어라고 생각이 든다는 거 자체가 나한테 과한 소이다 안 좋은 집에 살아라 그럼 꾸밀 마음이 들지 않는다 자 이런 댓글도 달리 입니다 현재를 너무 포기하고 사는 건 좀 아닌 거 같은데요 굳이 제가 그렇게까지 무리해 가면서 막 악착같이 살아 가지고 뭔 부기 영화를 누리겠다고 현재를 좀 즐기면서 살아도 되는 거 아닙니까라고 생각하시는 분들도 많을 겁니다 근데 저는 이렇게 말씀을 드리고 싶어요 뭐냐 내가 악착같이 포기하고 사는게 아니라는 거죠 기준이 틀렸다 현재에 우리가 생각하는 그 기준이 사실상 너무 과소비에 포커스가 맞춰져 있다는 겁니다 왜 그러냐 내가 지금 뭐 1년에 한번 여행을 한번 가야 되지 않나 그래도 그래도 차는 있어야 되지 않나 가끔씩 그래도 취미 생활은 해야 되지 않을까 그래도 집이라는게 어 화장실도 있고 방도 있고 당연히 좀 어느정도 좀 깔끔해야 되지 않나 그리고 이왕 집을 좀 살면서 좀 꾸미면 괜찮지 않을까 누굴 초대할 수도 있는 거 같은데라고 생각하는 그 기준들 자체가 사실은 좀 너무 과하다 아까도 말씀드렸죠이 부자가 못되는 공통점 가진 것에 비해서 너무 과소비를 하는 경향이 있습니다 우리가 생각하는 기준 자체를 많이 낮춰야 됩니다 거기다가 불을 늘리는데 시간도 에너지를 안 쓴다고 그랬잖아요 그리고 상대적으로 경제력이 늘어나지 않 많다 보니까 남한테 보여주기는 해야 될 거 같고 해서 과소비가 겉보기에 치중하는 걸로 이어집니다 1번을 했더니 2번이 되고 3번을 할 수밖에 없는 상황으로 가게 되는 거예요 제가 항상 말하지만 주거비 비율은 15% 정도로 생각하시면 됩니다 실수령 소득에서 주거비 비율입니다 그러니까 내가 예를 들어 월 300 정도 받는다 월 300이 어 12개월 평균 소득이다고 하면은 45만 원 정도 되는 거죠이 45만 원 이내에 전월세 이자랑 관리비를 막 나가야 된다 이게 저의 지론입니다 그리고이 정도 해야이 정도 해야 나머지를 한 15% 뭐 한 20 몇 % 쓰면서 저축을 그래도 한 60% 한 5 60% 정도는 할 수가 있습니다이 주거비 말고도이 현대인들은 쓸 돈이 많아요 그렇기 때문에 역설적으로 주거비를 극도로 낮춰야 되고요 당연히 교통비 차량 유지비도 교통비는 교통비도 최대한 낮춰야 되겠죠 그럼 어떻게 해야 됩니까 당연히 주거 환경을 많이 포기를 해야 된다 근데 많은 사람들이 이런 얘기를 합니다 아니 그 정도요 말도 안 되 소리 하지 마세요 제가 300 버는데 45만 원에 지금 서울에 월세 얻으려고 하잖아요 그러면 집이 너무 안 좋습니다 요즘에 고시원도 그 정도해요라고 말하는 분들도 많은데 저는 그 말하는 거 자체가 사실 한번 잘 한번 생각해 봐야 된다고 생각합니다 내가 돈을 더 못 번다면 어떡하겠습니까 거기 사는게 맞는 거죠 아니면 주거 환경을 조금 더 살리고 싶다면 또 외곽으로 나가는 거고요 서울에서 살면서 내가 소득의 한계가 있는데 여기서 주거까지 내가 챙기려고 하면은 나는 부자가 되기는 현실적으로 어려운 길을 가고 있는 겁니다 내가 무언가 포기할 건 포기를 해야 되는 거죠 그럼 이제 이런 얘기하시는 분들도 있을 것 같습니다 아니 그러면 언제까지 차도 안 사고 단칸방에서 막 고시원에서 살면서 그러다가 사람이 진짜 오히려 더 안 좋아진다 그러니까 나는 어느 정도는 좀 타협을 해야 되지 않겠습니까라고 말하시는 분들도 있는데 저는 이런 언제까지 차도 없이 단칸방에서 살아야 됩니까는이 한탄을 하는데 시간을 쓰지 마시고 아까 말한 거 있죠 부자가 되는데 부을 일구는데 시간과 에너지와 돈을 투자하자 그게 결국에 문제를 해결하는 본질이라고 생각을 합니다 한탄할 시간에 노력을 하는 거죠이 성공을 이룬 사람들은 모두 모두 희생을 했습니다 이게 다들 성공한 이후의 모습만 보기 때문에 저 사람이 되게 쉽게 왔다고 생각하고 그리고 저 사람은 운이 좋았다고 생각하지만이 성공을 한 사람들은 어떤 분야든지간에 희생이라는 거를 많이 했어요 그게 본인의 건강을 희생하는 사람들도 있고 본인의 시간을 희생하는 사람들도 있고 본인의 취미나 아니면 본인의 행복을 다 포기하고이 불을 일구는데 올인한 사람들도 많습니다 결국에 항상 말하는 이야기죠 지금의 고통이 있어야지만 미래가 바뀌는 것이고 지금 내가 고통스럽지 않다면 현재가 유지된다고 보시면 되는 거죠 그래서 지금 내가 고통스럽게 산다 아니면 내 조건이 점점 고통스럽게 나 스스로 몰아간다 이거를 슬퍼할게 아니라 아 미래가 바뀔 수 있는 확률이 높아지는 그나라 좋게 생각할 필요가 있습니다 그래서 남의 인스타 볼 시간에 내 통장 내역을 봐라 저는이 말을 하고 싶은데요 남의 인스타를 보면서 무언가 막 비교하고 한탄하고 이런 사람들이 많습니다 그리고 나도 저렇게 살아보고 싶다라고 그런 발에 많인 바람을 하시는 분들이 많은데 저는 그런 시간 아까 말한 이런 쓸데없는 시간을 내 부를 키우고 내가 부자가 되는데 조금 더 투자를 하시는게 내 인생을 바꾸는 길이다 내 통장 내역을 보세요 그러면은 남의 인스타 보기가 싫어질 겁니다 부자가 되는데 시간 에너지 돈을 투자하시는게 좋습니다 진짜 부자가 되면 그땐 써도 됩니다 그니까 진짜 부자라는 거는 상대적이기 하지만 아까 말한대로 내가 돈을 많이 벌면 그 15% 주거비에 쓸 수 있는 15% 점점 커지겠죠 그러면 그때서 내가 더 좋은 집에 가서 살면 됩니다 그러니까 내가 지금이 아끼고이 고통이 결국에는 나중에 더 큰 부로 돌아올 거라는 거를 믿고 거기에 시간을 쏟 드시면은 앞으로 선순환 구조가 인생의 선순환 구조가 일어나는데 그게 아니라 한탄하고이 퍼센트를 안 지키고 그냥 나는 300 벌지만 월세를 80 90짜리 살면서 내 인생은 왜 이럴까 하면서 남의 인스타를 보고 그리고 차도 하나 있어야 될 것 같으니까 차도 하나 사고 자치 집이니까 좀 이쁘게 꾸며야 될 것 같으니까 이쁘게도 좀 꾸며 놓고 요즘에 캠핑이 대사라고 하니까 차박도 한번 가면서 내인생 은 왜 안 바뀌지 도대체 이놈의 나라는 왜 이렇게 문제가 많을까라고 한탄한다 바뀌는 거는 아무것도 없다 내가 부자가 되면 그때는 소비를 늘릴 수가 있습니다 마지막으로이 부자들의 공통점을 다시 한번 보여 드리고 영상 마무리하겠습니다이 일곱 가지를 진심으로 지키고 살면은 인생이 바뀔 겁니다 그리고 이거와 다른 삶을 산다 그러면은 부자로 가는 길은 점점 더 멀어지고 있다라는 거를 꼭 명심하시고 앞으로 내가 어떻게 살지 스스로에게 한번 다짐하는 시간이 되셨으면 좋겠습니다 n')]}\n"
     ]
    }
   ],
   "source": [
    "pprint(ask_youtube(\"https://www.youtube.com/watch?v=JdpuWQaH5Eo\", \"그래서 인생이 망가지는 이유가 뭔데?\", language=\"ko\"))"
   ],
   "metadata": {
    "collapsed": false
   }
  },
  {
   "cell_type": "code",
   "execution_count": 44,
   "outputs": [
    {
     "name": "stdout",
     "output_type": "stream",
     "text": [
      "{'query': '왜 CCP 가 비혼 여성을 싫어하는데?',\n",
      " 'result': '중국 공산당(CCP)은 비혼 여성을 싫어하는 이유는 주로 인구 감소와 연관이 있습니다. 중국은 인구 고령화와 출생률 '\n",
      "           '저하 문제에 직면하고 있으며, 이는 경제와 사회의 안정성에 심각한 영향을 미칠 수 있습니다. 비혼 여성들이 결혼을 '\n",
      "           '기피하고 아이를 낳지 않으면, 출산율은 더욱 감소하게 되고, 이는 장기적으로 노동력 감소와 경제 성장 둔화로 이어질 수 '\n",
      "           '있습니다.\\n'\n",
      "           '\\n'\n",
      "           '공산당은 이러한 인구 문제를 해결하기 위해 정책을 변경하고 출산을 장려하려고 노력하고 있지만, 많은 여성들이 여전히 '\n",
      "           '결혼과 출산을 꺼리고 있습니다. 이로 인해 공산당은 비혼 여성들을 사회적 안정과 국가의 미래에 대한 위협으로 간주하고 '\n",
      "           '있으며, 이들을 결혼과 출산으로 유도하기 위해 다양한 정책과 캠페인을 시행하고 있습니다.',\n",
      " 'source_documents': [Document(metadata={'source': '_uN0xp-5lBE'}, page_content=\"Love—is not in the air! As China’s\\xa0\\neconomy sputters, fewer people are\\xa0\\xa0 getting married and having kids. But the Chinese\\xa0\\nCommunist Party doesn’t believe no means no.\\xa0 Welcome to China Uncensored, I’m Chris Chappell. More Chinese women are choosing to stay single. And stay tuned till the end\\xa0\\nbecause I’ll tell you how\\xa0 that could have devastating consequences\\xa0\\nfor the Chinese Communist Party. Now first of all I’m focusing on\\xa0\\nChinese women choosing to stay single, Because Chinese men don’t have a choice.\\nThere are 30 million more men than women in China. It’s particularly bad in rural areas. There’s almost 475 unmarried men\\xa0\\nfor every 100 unmarried women. The reason for this gender imbalance is because\\xa0\\nfor decades, China had a one child policy. Since\\xa0\\xa0 boys were preferred, that led to a huge amount\\xa0\\nof sex selective abortions. In other words,\\xa0\\xa0 since the Communist Party only allowed you\\xa0\\nto have one child, baby girls were killed,\\xa0\\xa0 so families could try again for a boy. Communism does wonderful things for a society. But why are *women* choosing to stay single?\\xa0\\nRather than just having their pick of the men? According to Reuters, “a growing number\\xa0\\nof educated women, facing unprecedented\\xa0\\xa0 insecurity amid record youth unemployment and an\\xa0\\neconomic downturn, are espousing ‘singleism.’” And the numbers are shocking. According to official data, in 2021 China’s single\\xa0\\npopulation over 15 years of age hit a record 239\\xa0\\xa0 million. Marriage registrations hit a historic low\\xa0\\nin 2022, only rebounding slightly after pandemic\\xa0\\xa0 lockdowns ended. And a 2021 Communist Youth League\\xa0\\nsurvey found 44% of women do not plan to marry Part of the problem is just how\\xa0\\nbad China’s economy has gotten. As China’s real estate sector, which\\xa0\\nmakes up a third of China’s GDP collapses, And youth unemployment hit record highs People are doing some crazy things just to get by. Some are choosing to be full time children, paid\\xa0\\nby their parents to do chores and live at home. Which might be more appealing than the search for\\xa0 Bedmates, which is where young\\xa0\\nChinese people literally have to\\xa0\\xa0 share a room and a bed with strangers just\\xa0\\nto afford to live in China’s megacities.\\xa0 So for many, marriage, and—what’s\\xa0\\nreally important to the Communist\\xa0\\xa0 Party—children, are just out of the picture. We’re seeing the singleism\\xa0\\ntrend on Chinese social media. Posts with the hashtags “No marriage, no\\xa0\\nchildren” from female influencers often in\\xa0\\xa0 their thirties or forties on Xiaohongshu, China’s\\xa0\\nInstagram, regularly gain thousands of likes.\\xa0 One anti-marriage forum on Douban, another\\xa0\\nsocial media platform, has 9,200 members,\\xa0\\xa0 while another dedicated to “singleism” has\\xa0\\xa0 3,600 members who discuss collective\\xa0\\nretirement plans, among other topics. Singleism is also tying into other\\xa0\\nsocial movements among Chinese youth.\\xa0 Like the lying flat movement. It was a popular hashtag on Chinese social\\xa0\\nmedia that basically encouraged young people\\xa0\\xa0 to give up on the intense struggle\\xa0\\nof Chinese society and just…lie flat. Or the Let it Rot movement.\\xa0 Which is like lying flat but\\xa0\\nwith an added level of cynicism. “‘Let it rot’ means to let things that\\xa0\\nare already beyond repair deteriorate.” Sounds like things are going great in China.\\xa0 One of these women who is choosing\\xa0\\nto stay single told Reuters,\\xa0\\xa0 “Many who got married in previous\\xa0\\ngenerations, especially women,\\xa0\\xa0 sacrificed themselves and their career\\xa0\\ndevelopment, and didn’t get the happy\\xa0\\xa0 life they were promised. Living my own\\xa0\\nlife well is difficult enough nowadays.” Another said, “I think it’s\\xa0\\nokay to date or cohabit,\\xa0\\xa0 but children are a huge asset\\xa0\\ninvestment with minimal returns.” Wow, can you imagine—a Communist\\xa0\\nsociety doesn’t value family. Another woman told the Wall Street\\xa0\\nJournal, “the demands of caring for\\xa0\\xa0 aging relatives and her job as an exhibition\\xa0\\ndesigner in Shenzhen leave no room for kids\\xa0\\xa0 or a husband. All she wants to do in her free\\xa0\\nmoments is read or scroll through pet videos.” Wow. Hashtag relatable. But while you might think the decision of whether\\xa0\\nor not to get married is just a matter of personal\\xa0\\xa0 choice, the Chinese Communist Party has a little\\xa0\\nless friendly attitude toward personal choice.\\xa0 I’ll tell you more after the break. Welcome back. So more and more Chinese women\\xa0\\nare choosing to stay single.\\xa0 But while you may see an individual\\xa0\\nwith individual choices, the Chinese\\xa0\\xa0 Communist Party sees a baby making factory.\\xa0 And production is falling behind. According to official numbers,\\xa0\\xa0 even after the end of the one-Child\\xa0\\npolicy, birth rates continued to drop. In 2012, there were 16 million births.\\xa0\\xa0 Just a decade later that number\\xa0\\nfell to less than 10 million. The Wall Street Journal says, “China is headed\\xa0\\ntoward a demographic collapse. China’s population,\\xa0\\xa0 now around 1.4 billion, is likely to drop\\xa0\\nto just around half a billion by 2100,\\xa0\\xa0 according to some projections.\\xa0\\nWomen are taking the blame.” The Party saw this coming—that’s why it ended the\\xa0\\nOne Child policy, first allowing people to have\\xa0\\xa0 two, then three kids. Yes, they still haven’t\\xa0\\ngiven up control, they just allow three kids. But so the Party prepared for a huge baby boom. But people didn’t bite.\\xa0 “New maternity wards were built\\xa0\\nonly to close a few years later.” “Sales of baby-care products, including\\xa0\\nformula and diapers, have dropped.” “Businesses that focused on\\xa0\\nbabies now target seniors.”\\xa0 New preschools built to make\\xa0\\nchild-rearing more affordable\\xa0\\xa0 struggle to fill classrooms and many have closed.” So this is a problem. But the solution is just a little bit of Communist\\xa0\\nParty intervention in people’s lives! I mean,\\xa0\\xa0 a decade ago they were forcing women to\\xa0\\nhave abortions and sterilizations. So\\xa0\\xa0 what’s wrong with doing a complete 180\\xa0\\nand encouraging a little baby making? Xi Jinping has been talking about the need to,\\xa0\\n“actively cultivate a new culture of marriage\\xa0\\xa0 and childbearing and strengthen guidance on young\\xa0\\npeople's view on marriage, childbirth and family.” You see young people might have the wrong views,\\xa0\\xa0 so they need the Communist Party to\\xa0\\nguide them to the right thinking. Chinese Premier Li Qiang has being talking\\xa0\\nabout, “working towards a birth-friendly society”\\xa0 Xi even gave a speech at the\\xa0\\nAll-China Women’s Federation,\\xa0\\xa0 the Chinese Communist Party’s\\xa0\\nofficial feminist organization.\\xa0 Yes. Let that sink in. According to an official print out of his speech Xi said told the feminist organization to\\xa0\\n“prevent and resolve risks in the women’s field.” What does that mean? Well according to Clyde\\xa0\\nYicheng Wang, an assistant professor of\\xa0\\xa0 politics at Washington and Lee University\\xa0\\nwho studies Chinese government propaganda “It’s clear that he was not\\xa0\\ntalking about risks faced by\\xa0\\xa0 women but considering women as a\\xa0\\nmajor threat to social stability.” That could be why the All-China Women’s\\xa0\\nFederation—again, China’s official feminist\\xa0\\xa0 organization—coined the term leftover women,\\xa0\\xa0 women who didn’t get married before\\xa0\\nthe age of 27 and now are too old Here’s something they wrote in March 2011,\\xa0\\nright after International Women’s Day: Pretty girls don’t need a lot of education\\xa0\\nto marry into a rich and powerful family,\\xa0\\xa0 but girls with an average or ugly appearance\\xa0\\nwill find it difficult. These kinds of girls\\xa0\\xa0 hope to further their education in order to\\xa0\\nincrease their competitiveness. The tragedy is,\\xa0\\xa0 they don’t realize that as women\\xa0\\nage, they are worth less and less,\\xa0\\xa0 so by the time they get their M.A. or Ph.D.,\\xa0\\nthey are already old, like yellowed pearls. CHINA’S OFFICIAL FEMINIST ORGANIZATION. But the Communist Party is\\xa0\\ntaking more direct action.\\xa0 For instance, government-organized\\xa0\\nmatchmaking events. And government\\xa0\\xa0 Valentine Day messages such\\xa0\\nas, “Wishing you sweet love\\xa0\\xa0 and marriage at an appropriate age.\\xa0\\nLet’s extend the Chinese bloodline.” If that doesn’t get you in the\\xa0\\nmood, I don’t know what will! Though people apparently\\xa0\\ndidn’t respond well to that. “The message drew a backlash on social\\xa0\\nmedia. ‘My mother-in-law doesn’t even\\xa0\\xa0 push me to have a second child,’\\xa0\\none person wrote. ‘I guess next,\\xa0\\xa0 arranged marriages will come\\xa0\\nback,’ another commented.” You know…I wouldn’t be surprised. Remember,\\xa0\\xa0 the CCP forced women to have\\xa0\\nabortions and sterilizations.\\xa0 We may already be seeing the beginning of that. “In 2021, the city of Luanzhou asked\\xa0\\nunmarried people to sign up for a\\xa0\\xa0 government-sponsored dating initiative that\\xa0\\nuses big data to find matches citywide.” If birthrates don’t go up, what do you\\xa0\\nthink the CCP will do with that data? Now as I mentioned earlier, people have\\xa0\\nbeen posting on Chinese social media\\xa0\\xa0 about singleism. And there’s\\xa0\\nalready a crackdown on that. The All-China Women’s Federation is\\xa0\\nactively preventing gender related\\xa0\\xa0 topics from going viral. In fact, they\\xa0\\n“paid more to a tech company to police\\xa0\\xa0 social-media comments than its\\xa0\\nbudget for women’s advocacy.” CHINA’S OFFICIAL FEMINIST ORGANIZATION. And China’s official internet watchdog\\xa0\\nis policing content that they say is,\\xa0\\xa0 “spreading wrong values…and spreading\\xa0\\nincorrect views on marriage and relationships,\\xa0\\xa0 and deliberately creating gender opposition.” Yes, by saying women have a choice\\xa0\\nin getting married and having kids. Again, keep in mind that just a few years ago,\\xa0\\nwomen having a second child had to run and\\xa0\\xa0 hide from the government lest they murder their\\xa0\\nchild and force the parents to pay huge fines.\\xa0 That would make me want to lie flat too The Chinese Communist Party would love to keep all\\xa0\\xa0 this underwraps. That’s why\\xa0\\nthey hate China Uncensored.\\xa0 They even wrote about me in state-run\\xa0\\nmedia, calling China Uncensored\\xa0\\xa0 “disgraceful anti-China garbage.”\\nBut with YouTube suppressing the show,\\xa0\\xa0 I can’t afford to keep making China Uncensored.\\xa0\\nMaking the show and paying my staff isn’t cheap,\\xa0\\xa0 and the CCP would love it if\\xa0\\nI had to shut down the show.\\xa0 That’s why I need your help. All it takes is a dollar or more an\\xa0\\nepisode on patreon.com/chinauncensored. I make about 16 episodes a month,\\xa0\\nbut if that’s too much for you, You can set a monthly limit. So you could ensure\\xa0\\xa0 I can keep uncensoring China\\xa0\\nfor even a dollar a month. And as a thank you to everyone who\\xa0\\ngives on Patreon, I’l answer one\\xa0\\xa0 of your questions at the end of these episodes. Today’s question comes from, long time supporter\\xa0\\nJames Wallberg “Chris, When the CCP falls will\\xa0\\xa0 you still dislike Panda's? Do think the new\\xa0\\ngovernment would continue Panda Politics? Ahh, now that’s a great question.\\xa0\\nSo I have a running gag on the show\\xa0\\xa0 that I hate pandas. But also secretly love them. That joke comes from how the Party has\\xa0\\nused pandas—what’s actually called Panda\\xa0\\xa0 diplomacy. China may lend out pandas to\\xa0\\nother countries—and they aren’t cheap “A zoo will have spent $10\\xa0\\nmillion renting one panda.” And if they have babies? “China charges a cub tax of\\xa0\\n$400,000. And those little\\xa0\\xa0 cuties have to be shipped back\\xa0\\nto China when they turn three.” But say a country does something the CCP doesn’t\\xa0\\nlike. Then the Party will take back those pandas.\\xa0 Like when China took back a US panda because\\xa0\\nthen President Obama met with the Dalai Lama. So what happens if the CCP falls? Will\\xa0\\nI begrudgingly admit I love pandas and\\xa0\\xa0 their stupid cute adorable little faces? Let me put it this way. If I can call\\xa0\\na panda a fellow American, you bet.\\xa0 But as long as that black and white coat covers\\xa0\\na dirty red, then you can forget about it. Thanks for your question and again, your long\\xa0\\ntime support James. I loved that question. Join James in making the CCP furious by\\xa0\\nsupporting China Uncensored on Patreon,\\xa0\\xa0 just click on that orange button. And if you didn’t know I have a new gaming\\xa0\\nchannel called Gamers Unbeaten. Check out\\xa0\\xa0 the latest episode, a tribute to Akira Toriyama\\xa0\\nand Dragon Ball. Let me know what you think.\\xa0\\xa0 Once again I’m Chris Chappell, see you next time.\")]}\n"
     ]
    }
   ],
   "source": [
    "pprint(ask_youtube(\"https://www.youtube.com/watch?v=_uN0xp-5lBE\", \"왜 CCP 가 비혼 여성을 싫어하는데?\"))"
   ],
   "metadata": {
    "collapsed": false
   }
  },
  {
   "cell_type": "markdown",
   "source": [
    "# PyPDF"
   ],
   "metadata": {
    "collapsed": false
   }
  },
  {
   "cell_type": "code",
   "execution_count": 45,
   "outputs": [],
   "source": [
    "from langchain_community.document_loaders import PyPDFLoader"
   ],
   "metadata": {
    "collapsed": false
   }
  },
  {
   "cell_type": "code",
   "execution_count": 46,
   "outputs": [],
   "source": [
    "loader = PyPDFLoader(\"https://arxiv.org/pdf/2302.03803.pdf\")\n",
    "documents = loader.load()"
   ],
   "metadata": {
    "collapsed": false
   }
  },
  {
   "cell_type": "code",
   "execution_count": 47,
   "outputs": [],
   "source": [
    "db = FAISS.from_documents(documents, embeddings)\n",
    "retriever = db.as_retriever()\n",
    "llm = ChatOpenAI(model_name=\"gpt-4o\")"
   ],
   "metadata": {
    "collapsed": false
   }
  },
  {
   "cell_type": "code",
   "execution_count": 48,
   "outputs": [],
   "source": [
    "qa = RetrievalQA.from_chain_type(\n",
    "    llm=llm,\n",
    "    chain_type=\"stuff\",\n",
    "    retriever=retriever,\n",
    "    return_source_documents=True)"
   ],
   "metadata": {
    "collapsed": false
   }
  },
  {
   "cell_type": "code",
   "execution_count": 49,
   "outputs": [],
   "source": [
    "query = \"대강 무슨 내용이야? 초등학생도 이해할 수 있게 설명해줘\"\n",
    "result = qa({\"query\": query})"
   ],
   "metadata": {
    "collapsed": false
   }
  },
  {
   "cell_type": "code",
   "execution_count": 50,
   "outputs": [
    {
     "name": "stdout",
     "output_type": "stream",
     "text": [
      "('이 논문은 수학에서 매우 고급 개념들을 다루고 있어서 초등학생이 이해하기는 어려울 수 있어요. 하지만 간단히 설명해볼게요.\\n'\n",
      " '\\n'\n",
      " '이 연구는 수학의 한 분야인 \"대수기하학\"과 \"호지 이론\"에 관련된 내용을 다루고 있어요. 특히, 특정한 종류의 기하학적인 구조인 \"토릭 '\n",
      " '다양체\"와 \"오르비폴드\"에 대해 이야기하고 있어요.\\n'\n",
      " '\\n'\n",
      " '1. **토릭 다양체**: 이것은 특정한 종류의 기하학적 도형을 말해요. 이 도형은 기본적으로 아주 규칙적으로 배열된 점들로 이루어져 '\n",
      " '있어요. 토릭 다양체는 이 점들의 배열에서 만들어진 복잡한 모양을 말해요.\\n'\n",
      " '\\n'\n",
      " '2. **오르비폴드**: 이것은 다소 복잡한 기하학적 구조로, 어떤 점들이 특별한 방식으로 배열되어 있어요. 이 점들은 주변의 다른 '\n",
      " '점들과 조금 다르게 행동해요.\\n'\n",
      " '\\n'\n",
      " '3. **호지 이론**: 이것은 기하학적 구조의 복잡한 특성을 연구하는 수학의 한 분야에요. 이 논문에서는 특정한 종류의 '\n",
      " '도형(다양체)에서 호지 이론이 어떻게 적용되는지를 연구해요.\\n'\n",
      " '\\n'\n",
      " '4. **주요 결과**: 논문에서는 특정한 도형(특히, \"quasi-smooth hypersurfaces\"와 \"quasi-smooth '\n",
      " 'intersection subvarieties\")에서 복잡한 수학적 성질들을 어떻게 다른 도형으로 전환할 수 있는지에 대해 설명해요. '\n",
      " '이를 통해 특정한 수학적 추측(호지 추측)이 참인지 확인할 수 있는 방법을 제시해요.\\n'\n",
      " '\\n'\n",
      " '간단히 말해서, 이 논문은 매우 복잡하고 추상적인 수학적 개념들을 다루고 있으며, 특정한 기하학적 구조에서의 성질들을 연구하고 있어요.')\n"
     ]
    }
   ],
   "source": [
    "pprint(result['result'])"
   ],
   "metadata": {
    "collapsed": false
   }
  }
 ],
 "metadata": {
  "kernelspec": {
   "display_name": "Python 3",
   "language": "python",
   "name": "python3"
  },
  "language_info": {
   "codemirror_mode": {
    "name": "ipython",
    "version": 2
   },
   "file_extension": ".py",
   "mimetype": "text/x-python",
   "name": "python",
   "nbconvert_exporter": "python",
   "pygments_lexer": "ipython2",
   "version": "2.7.6"
  }
 },
 "nbformat": 4,
 "nbformat_minor": 0
}
