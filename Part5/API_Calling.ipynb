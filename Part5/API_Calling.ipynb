{
 "cells": [
  {
   "metadata": {},
   "cell_type": "markdown",
   "source": "# Load OPENAI KEY",
   "id": "169759835f01f1f5"
  },
  {
   "cell_type": "code",
   "id": "initial_id",
   "metadata": {
    "collapsed": true,
    "ExecuteTime": {
     "end_time": "2024-08-18T11:10:55.690888Z",
     "start_time": "2024-08-18T11:10:55.680874Z"
    }
   },
   "source": "import os, openai",
   "outputs": [],
   "execution_count": 4
  },
  {
   "metadata": {
    "ExecuteTime": {
     "end_time": "2024-08-18T11:10:59.595667Z",
     "start_time": "2024-08-18T11:10:59.580641Z"
    }
   },
   "cell_type": "code",
   "source": [
    "with open('../sample_data/token.txt', 'r') as file:\n",
    "    os.environ[\"OPENAI_API_KEY\"] = file.read().strip()"
   ],
   "id": "ce46ebe127d96c0d",
   "outputs": [],
   "execution_count": 5
  },
  {
   "metadata": {
    "ExecuteTime": {
     "end_time": "2024-08-18T11:10:59.836735Z",
     "start_time": "2024-08-18T11:10:59.820710Z"
    }
   },
   "cell_type": "code",
   "source": "openai.api_key = os.getenv(\"OPENAI_API_KEY\")",
   "id": "ad0015ffe1bf7f80",
   "outputs": [],
   "execution_count": 6
  },
  {
   "metadata": {},
   "cell_type": "markdown",
   "source": "# Load Blood Test result image & ask to chatGPT",
   "id": "1c621c620481cbbd"
  },
  {
   "metadata": {
    "ExecuteTime": {
     "end_time": "2024-08-18T11:11:38.927985Z",
     "start_time": "2024-08-18T11:11:38.624300Z"
    }
   },
   "cell_type": "code",
   "source": "client = openai.OpenAI()",
   "id": "5cac5582afa4c16d",
   "outputs": [],
   "execution_count": 7
  },
  {
   "metadata": {
    "ExecuteTime": {
     "end_time": "2024-08-18T11:18:25.990060Z",
     "start_time": "2024-08-18T11:18:08.803285Z"
    }
   },
   "cell_type": "code",
   "source": [
    "response = client.chat.completions.create(\n",
    "    model='gpt-4o',\n",
    "    messages = [\n",
    "        {\n",
    "            \"role\": \"user\",\n",
    "            \"content\": [\n",
    "                {\"type\": \"text\", \"text\": \"이 피검사 결과를 상세하게 설명해 줘. 그리고 문제가 된다면 어떻게 고쳐야 하는지도 농담 섞어서 설명해 줘\"},\n",
    "                {\n",
    "                    \"type\":\"image_url\",\n",
    "                    \"image_url\" : {\n",
    "                        \"url\": \"https://emi.parkview.com/media/Image/Dashboard_835_lab-results_10_23.jpeg\"\n",
    "                    }\n",
    "                }\n",
    "            ]\n",
    "        }\n",
    "    ],\n",
    "    max_tokens=800,\n",
    ")"
   ],
   "id": "39246903d33f050c",
   "outputs": [],
   "execution_count": 21
  },
  {
   "metadata": {
    "ExecuteTime": {
     "end_time": "2024-08-18T11:18:26.005752Z",
     "start_time": "2024-08-18T11:18:25.991061Z"
    }
   },
   "cell_type": "code",
   "source": "print(response.choices[0].message.content)",
   "id": "b935ca3035f15f6d",
   "outputs": [
    {
     "name": "stdout",
     "output_type": "stream",
     "text": [
      "사진에 표시된 피검사 결과는 다음과 같습니다:\n",
      "\n",
      "1. **Cholesterol (콜레스테롤)**: 299 mg/dL (높음)\n",
      "2. **Triglyceride (중성지방)**: 250 mg/dL (높음)\n",
      "3. **HDL-C (고밀도지질단백 콜레스테롤, '좋은' 콜레스테롤)**: 62 mg/dL\n",
      "4. **LDL-C (저밀도지질단백 콜레스테롤, '나쁜' 콜레스테롤)**: 210 mg/dL (높음)\n",
      "\n",
      "각각의 결과를 이해하려면 다음과 같은 일반적인 기준을 참고할 수 있습니다:\n",
      "\n",
      "- **Total Cholesterol**: 정상 범위는 125-200 mg/dL 입니다. 240 mg/dL 이상은 높음으로 간주됩니다.\n",
      "- **Triglycerides**: 정상 범위는 150 mg/dL 미만입니다. 200 mg/dL 이상은 높음으로 간주됩니다.\n",
      "- **HDL-C**: 40 mg/dL 이상이 좋습니다. 60 mg/dL 이상은 매우 좋은 수준으로 간주됩니다.\n",
      "- **LDL-C**: 100 mg/dL 미만이 좋습니다. 160 mg/dL 이상은 높음으로 간주됩니다.\n",
      "\n",
      "이 피검사 결과의 문제와 해결 방법을 농담을 곁들여 설명해보겠습니다:\n",
      "\n",
      "딜레마에 빠진 콜레스테롤 모임의 비밀을 밝혀 드릴게요!\n",
      "1. **콜레스테롤의 왕 (299)**: 너무 높은 이 콜레스테롤 왕은 고지방 음식을 너무 좋아해서 문제가 됩니다. 기름진 음식을 멀리하고 녹색 채소와 친해지면 왕국이 평화로워질 거예요. 그리고 숲속에서 산책(운동)을 하면 왕도 기분이 좋아질 거예요.\n",
      "\n",
      "2. **중성지방의 덩치**: 이 덩치는 너무나도 치킨을 사랑해서 250이나 나왔어요. 치킨을 줄이고 생선으로 친구를 사귀면 덩치도 가벼워질 거예요. 그리고 집에서 홈트로 크로스핏이라도 시작해보자구요!\n",
      "\n",
      "3. **좋은 친구(HDL)**: 좋은 친구는 실망시키지 않고 적당한 수치를 유지하고 있어요. 친구들과 무리 지어 다니는 걸 좋아하니까, 가벼운 운동과 건강한 식단을 지속하세요. 더 많은 친구를 늘리고 싶다면, 오메가-3가 풍부한 음식을 섭취하는 것도 좋겠네요.\n",
      "\n",
      "4. **나쁜 친구 (LDL)**: 나쁨 나쁨한 친구가 210이나 되는 건 고기 종류의 음식과 너무 친한 탓이에요. 이 나쁜 친구를 멀리하고 싶다면, '오후의 간식은 과일로!' 슬로건으로 과일과 채소를 먹어봐요. 그리고 매일 아침 조깅으로 나쁜 친구를 피할 수 있을 거예요.\n",
      "\n",
      "이렇듯이 건강한 생활습관을 유지하는 것이 중요해요! 그렇지만, 주기적으로 의사와 상담하여 정확한 건강 관리를 받는 것이 가장 좋답니다.\n"
     ]
    }
   ],
   "execution_count": 22
  }
 ],
 "metadata": {
  "kernelspec": {
   "display_name": "Python 3",
   "language": "python",
   "name": "python3"
  },
  "language_info": {
   "codemirror_mode": {
    "name": "ipython",
    "version": 2
   },
   "file_extension": ".py",
   "mimetype": "text/x-python",
   "name": "python",
   "nbconvert_exporter": "python",
   "pygments_lexer": "ipython2",
   "version": "2.7.6"
  }
 },
 "nbformat": 4,
 "nbformat_minor": 5
}
